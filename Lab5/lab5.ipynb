{
 "cells": [
  {
   "cell_type": "markdown",
   "metadata": {
    "collapsed": true,
    "pycharm": {
     "name": "#%% md\n"
    }
   },
   "source": [
    "# data_breast_cancer"
   ],
   "execution_count": 1
  },
  {
   "cell_type": "code",
   "execution_count": 96,
   "outputs": [
    {
     "name": "stdout",
     "output_type": "stream",
     "text": [
      ".. _breast_cancer_dataset:\n",
      "\n",
      "Breast cancer wisconsin (diagnostic) dataset\n",
      "--------------------------------------------\n",
      "\n",
      "**Data Set Characteristics:**\n",
      "\n",
      "    :Number of Instances: 569\n",
      "\n",
      "    :Number of Attributes: 30 numeric, predictive attributes and the class\n",
      "\n",
      "    :Attribute Information:\n",
      "        - radius (mean of distances from center to points on the perimeter)\n",
      "        - texture (standard deviation of gray-scale values)\n",
      "        - perimeter\n",
      "        - area\n",
      "        - smoothness (local variation in radius lengths)\n",
      "        - compactness (perimeter^2 / area - 1.0)\n",
      "        - concavity (severity of concave portions of the contour)\n",
      "        - concave points (number of concave portions of the contour)\n",
      "        - symmetry\n",
      "        - fractal dimension (\"coastline approximation\" - 1)\n",
      "\n",
      "        The mean, standard error, and \"worst\" or largest (mean of the three\n",
      "        worst/largest values) of these features were computed for each image,\n",
      "        resulting in 30 features.  For instance, field 0 is Mean Radius, field\n",
      "        10 is Radius SE, field 20 is Worst Radius.\n",
      "\n",
      "        - class:\n",
      "                - WDBC-Malignant\n",
      "                - WDBC-Benign\n",
      "\n",
      "    :Summary Statistics:\n",
      "\n",
      "    ===================================== ====== ======\n",
      "                                           Min    Max\n",
      "    ===================================== ====== ======\n",
      "    radius (mean):                        6.981  28.11\n",
      "    texture (mean):                       9.71   39.28\n",
      "    perimeter (mean):                     43.79  188.5\n",
      "    area (mean):                          143.5  2501.0\n",
      "    smoothness (mean):                    0.053  0.163\n",
      "    compactness (mean):                   0.019  0.345\n",
      "    concavity (mean):                     0.0    0.427\n",
      "    concave points (mean):                0.0    0.201\n",
      "    symmetry (mean):                      0.106  0.304\n",
      "    fractal dimension (mean):             0.05   0.097\n",
      "    radius (standard error):              0.112  2.873\n",
      "    texture (standard error):             0.36   4.885\n",
      "    perimeter (standard error):           0.757  21.98\n",
      "    area (standard error):                6.802  542.2\n",
      "    smoothness (standard error):          0.002  0.031\n",
      "    compactness (standard error):         0.002  0.135\n",
      "    concavity (standard error):           0.0    0.396\n",
      "    concave points (standard error):      0.0    0.053\n",
      "    symmetry (standard error):            0.008  0.079\n",
      "    fractal dimension (standard error):   0.001  0.03\n",
      "    radius (worst):                       7.93   36.04\n",
      "    texture (worst):                      12.02  49.54\n",
      "    perimeter (worst):                    50.41  251.2\n",
      "    area (worst):                         185.2  4254.0\n",
      "    smoothness (worst):                   0.071  0.223\n",
      "    compactness (worst):                  0.027  1.058\n",
      "    concavity (worst):                    0.0    1.252\n",
      "    concave points (worst):               0.0    0.291\n",
      "    symmetry (worst):                     0.156  0.664\n",
      "    fractal dimension (worst):            0.055  0.208\n",
      "    ===================================== ====== ======\n",
      "\n",
      "    :Missing Attribute Values: None\n",
      "\n",
      "    :Class Distribution: 212 - Malignant, 357 - Benign\n",
      "\n",
      "    :Creator:  Dr. William H. Wolberg, W. Nick Street, Olvi L. Mangasarian\n",
      "\n",
      "    :Donor: Nick Street\n",
      "\n",
      "    :Date: November, 1995\n",
      "\n",
      "This is a copy of UCI ML Breast Cancer Wisconsin (Diagnostic) datasets.\n",
      "https://goo.gl/U2Uwz2\n",
      "\n",
      "Features are computed from a digitized image of a fine needle\n",
      "aspirate (FNA) of a breast mass.  They describe\n",
      "characteristics of the cell nuclei present in the image.\n",
      "\n",
      "Separating plane described above was obtained using\n",
      "Multisurface Method-Tree (MSM-T) [K. P. Bennett, \"Decision Tree\n",
      "Construction Via Linear Programming.\" Proceedings of the 4th\n",
      "Midwest Artificial Intelligence and Cognitive Science Society,\n",
      "pp. 97-101, 1992], a classification method which uses linear\n",
      "programming to construct a decision tree.  Relevant features\n",
      "were selected using an exhaustive search in the space of 1-4\n",
      "features and 1-3 separating planes.\n",
      "\n",
      "The actual linear program used to obtain the separating plane\n",
      "in the 3-dimensional space is that described in:\n",
      "[K. P. Bennett and O. L. Mangasarian: \"Robust Linear\n",
      "Programming Discrimination of Two Linearly Inseparable Sets\",\n",
      "Optimization Methods and Software 1, 1992, 23-34].\n",
      "\n",
      "This database is also available through the UW CS ftp server:\n",
      "\n",
      "ftp ftp.cs.wisc.edu\n",
      "cd math-prog/cpo-dataset/machine-learn/WDBC/\n",
      "\n",
      ".. topic:: References\n",
      "\n",
      "   - W.N. Street, W.H. Wolberg and O.L. Mangasarian. Nuclear feature extraction \n",
      "     for breast tumor diagnosis. IS&T/SPIE 1993 International Symposium on \n",
      "     Electronic Imaging: Science and Technology, volume 1905, pages 861-870,\n",
      "     San Jose, CA, 1993.\n",
      "   - O.L. Mangasarian, W.N. Street and W.H. Wolberg. Breast cancer diagnosis and \n",
      "     prognosis via linear programming. Operations Research, 43(4), pages 570-577, \n",
      "     July-August 1995.\n",
      "   - W.H. Wolberg, W.N. Street, and O.L. Mangasarian. Machine learning techniques\n",
      "     to diagnose breast cancer from fine-needle aspirates. Cancer Letters 77 (1994) \n",
      "     163-171.\n"
     ]
    }
   ],
   "source": [
    "from sklearn import datasets\n",
    "\n",
    "data_breast_cancer = datasets.load_breast_cancer(as_frame=True)\n",
    "print(data_breast_cancer['DESCR'])"
   ],
   "metadata": {
    "collapsed": false,
    "pycharm": {
     "name": "#%%\n"
    }
   }
  },
  {
   "cell_type": "markdown",
   "source": [
    "## Podziel ww. zbiór na uczący i testujący w proprcjach 80:20."
   ],
   "metadata": {
    "collapsed": false,
    "pycharm": {
     "name": "#%% md\n"
    }
   }
  },
  {
   "cell_type": "code",
   "execution_count": 97,
   "outputs": [],
   "source": [
    "from sklearn.model_selection import train_test_split\n",
    "\n",
    "X_train, X_test, y_train, y_test = train_test_split(data_breast_cancer['data'], data_breast_cancer['target'],\n",
    "                                                    test_size=.2)"
   ],
   "metadata": {
    "collapsed": false,
    "pycharm": {
     "name": "#%%\n"
    }
   }
  },
  {
   "cell_type": "code",
   "execution_count": 98,
   "outputs": [
    {
     "data": {
      "text/plain": "DecisionTreeClassifier(max_depth=3)"
     },
     "execution_count": 98,
     "metadata": {},
     "output_type": "execute_result"
    }
   ],
   "source": [
    "from sklearn.tree import DecisionTreeClassifier\n",
    "\n",
    "tree_clf = DecisionTreeClassifier(max_depth=3)\n",
    "tree_clf.fit(X_train, y_train)"
   ],
   "metadata": {
    "collapsed": false,
    "pycharm": {
     "name": "#%%\n"
    }
   }
  },
  {
   "cell_type": "code",
   "execution_count": 99,
   "outputs": [
    {
     "name": "stdout",
     "output_type": "stream",
     "text": [
      "0.9759450171821306\n"
     ]
    }
   ],
   "source": [
    "from sklearn.metrics import f1_score\n",
    "\n",
    "y_pred_train = tree_clf.predict(X_train)\n",
    "y_pred_test = tree_clf.predict(X_test)\n",
    "print(f1_score(y_train, y_pred_train))"
   ],
   "metadata": {
    "collapsed": false,
    "pycharm": {
     "name": "#%%\n"
    }
   }
  },
  {
   "cell_type": "markdown",
   "source": [
    "Znajdź odpowiednią głębokośc drzewa decyzyjnego, tak aby osiągnąć maksymalną wartość f1\n",
    "(uwaga: sprawdź dla zbioru uczącego i testowego)."
   ],
   "metadata": {
    "collapsed": false,
    "pycharm": {
     "name": "#%% md\n"
    }
   }
  },
  {
   "cell_type": "code",
   "execution_count": 100,
   "outputs": [
    {
     "data": {
      "text/plain": "[(0.9384885764499122, 0.9051094890510949, 1),\n (0.9611307420494699, 0.9411764705882353, 2),\n (0.9759450171821306, 0.9558823529411765, 3),\n (0.9895833333333334, 0.955223880597015, 4),\n (0.9930795847750865, 0.955223880597015, 5),\n (0.9982728842832469, 0.9635036496350365, 6),\n (1.0, 0.9635036496350365, 7),\n (1.0, 0.9489051094890512, 8),\n (1.0, 0.9489051094890512, 9),\n (1.0, 0.9635036496350365, 10),\n (1.0, 0.9481481481481482, 11),\n (1.0, 0.9558823529411765, 12),\n (1.0, 0.9705882352941176, 13),\n (1.0, 0.9558823529411765, 14),\n (1.0, 0.9635036496350365, 15),\n (1.0, 0.9481481481481482, 16),\n (1.0, 0.9705882352941176, 17),\n (1.0, 0.955223880597015, 18),\n (1.0, 0.9781021897810219, 19)]"
     },
     "execution_count": 100,
     "metadata": {},
     "output_type": "execute_result"
    }
   ],
   "source": [
    "out = []\n",
    "for i in range(1, 20):\n",
    "    tree_clf = DecisionTreeClassifier(max_depth=i)\n",
    "    tree_clf.fit(X_train, y_train)\n",
    "    y_pred_train = tree_clf.predict(X_train)\n",
    "    y_pred_test = tree_clf.predict(X_test)\n",
    "    out.append((f1_score(y_train, y_pred_train), f1_score(y_test, y_pred_test), i))\n",
    "out"
   ],
   "metadata": {
    "collapsed": false,
    "pycharm": {
     "name": "#%%\n"
    }
   }
  },
  {
   "cell_type": "code",
   "execution_count": 101,
   "outputs": [],
   "source": [
    "tree_clf = DecisionTreeClassifier(max_depth=5)\n",
    "tree_clf.fit(X_train, y_train)\n",
    "y_pred_train = tree_clf.predict(X_train)\n",
    "y_pred_test = tree_clf.predict(X_test)"
   ],
   "metadata": {
    "collapsed": false,
    "pycharm": {
     "name": "#%%\n"
    }
   }
  },
  {
   "cell_type": "code",
   "execution_count": 102,
   "outputs": [
    {
     "data": {
      "text/plain": "<graphviz.files.Source at 0x2d0314178e0>",
      "image/svg+xml": "<?xml version=\"1.0\" encoding=\"UTF-8\" standalone=\"no\"?>\r\n<!DOCTYPE svg PUBLIC \"-//W3C//DTD SVG 1.1//EN\"\r\n \"http://www.w3.org/Graphics/SVG/1.1/DTD/svg11.dtd\">\r\n<!-- Generated by graphviz version 2.38.0 (20140413.2041)\r\n -->\r\n<!-- Title: Tree Pages: 1 -->\r\n<svg width=\"1835pt\" height=\"671pt\"\r\n viewBox=\"0.00 0.00 1835.00 671.00\" xmlns=\"http://www.w3.org/2000/svg\" xmlns:xlink=\"http://www.w3.org/1999/xlink\">\r\n<g id=\"graph0\" class=\"graph\" transform=\"scale(1 1) rotate(0) translate(4 667)\">\r\n<title>Tree</title>\r\n<polygon fill=\"white\" stroke=\"none\" points=\"-4,4 -4,-667 1831,-667 1831,4 -4,4\"/>\r\n<!-- 0 -->\r\n<g id=\"node1\" class=\"node\"><title>0</title>\r\n<path fill=\"#abd5f4\" stroke=\"black\" d=\"M1051.5,-663C1051.5,-663 859.5,-663 859.5,-663 853.5,-663 847.5,-657 847.5,-651 847.5,-651 847.5,-592 847.5,-592 847.5,-586 853.5,-580 859.5,-580 859.5,-580 1051.5,-580 1051.5,-580 1057.5,-580 1063.5,-586 1063.5,-592 1063.5,-592 1063.5,-651 1063.5,-651 1063.5,-657 1057.5,-663 1051.5,-663\"/>\r\n<text text-anchor=\"middle\" x=\"955.5\" y=\"-647.8\" font-family=\"Helvetica,sans-Serif\" font-size=\"14.00\">mean concave points &lt;= 0.051</text>\r\n<text text-anchor=\"middle\" x=\"955.5\" y=\"-632.8\" font-family=\"Helvetica,sans-Serif\" font-size=\"14.00\">gini = 0.463</text>\r\n<text text-anchor=\"middle\" x=\"955.5\" y=\"-617.8\" font-family=\"Helvetica,sans-Serif\" font-size=\"14.00\">samples = 455</text>\r\n<text text-anchor=\"middle\" x=\"955.5\" y=\"-602.8\" font-family=\"Helvetica,sans-Serif\" font-size=\"14.00\">value = [166, 289]</text>\r\n<text text-anchor=\"middle\" x=\"955.5\" y=\"-587.8\" font-family=\"Helvetica,sans-Serif\" font-size=\"14.00\">class = 1, ill</text>\r\n</g>\r\n<!-- 1 -->\r\n<g id=\"node2\" class=\"node\"><title>1</title>\r\n<path fill=\"#43a2e6\" stroke=\"black\" d=\"M895,-544C895,-544 764,-544 764,-544 758,-544 752,-538 752,-532 752,-532 752,-473 752,-473 752,-467 758,-461 764,-461 764,-461 895,-461 895,-461 901,-461 907,-467 907,-473 907,-473 907,-532 907,-532 907,-538 901,-544 895,-544\"/>\r\n<text text-anchor=\"middle\" x=\"829.5\" y=\"-528.8\" font-family=\"Helvetica,sans-Serif\" font-size=\"14.00\">worst radius &lt;= 16.83</text>\r\n<text text-anchor=\"middle\" x=\"829.5\" y=\"-513.8\" font-family=\"Helvetica,sans-Serif\" font-size=\"14.00\">gini = 0.089</text>\r\n<text text-anchor=\"middle\" x=\"829.5\" y=\"-498.8\" font-family=\"Helvetica,sans-Serif\" font-size=\"14.00\">samples = 280</text>\r\n<text text-anchor=\"middle\" x=\"829.5\" y=\"-483.8\" font-family=\"Helvetica,sans-Serif\" font-size=\"14.00\">value = [13, 267]</text>\r\n<text text-anchor=\"middle\" x=\"829.5\" y=\"-468.8\" font-family=\"Helvetica,sans-Serif\" font-size=\"14.00\">class = 1, ill</text>\r\n</g>\r\n<!-- 0&#45;&gt;1 -->\r\n<g id=\"edge1\" class=\"edge\"><title>0&#45;&gt;1</title>\r\n<path fill=\"none\" stroke=\"black\" d=\"M911.785,-579.907C901.719,-570.56 890.925,-560.538 880.577,-550.929\"/>\r\n<polygon fill=\"black\" stroke=\"black\" points=\"882.847,-548.261 873.138,-544.021 878.084,-553.39 882.847,-548.261\"/>\r\n<text text-anchor=\"middle\" x=\"874.063\" y=\"-565.304\" font-family=\"Helvetica,sans-Serif\" font-size=\"14.00\">True</text>\r\n</g>\r\n<!-- 18 -->\r\n<g id=\"node19\" class=\"node\"><title>18</title>\r\n<path fill=\"#e99355\" stroke=\"black\" d=\"M1159,-544C1159,-544 1006,-544 1006,-544 1000,-544 994,-538 994,-532 994,-532 994,-473 994,-473 994,-467 1000,-461 1006,-461 1006,-461 1159,-461 1159,-461 1165,-461 1171,-467 1171,-473 1171,-473 1171,-532 1171,-532 1171,-538 1165,-544 1159,-544\"/>\r\n<text text-anchor=\"middle\" x=\"1082.5\" y=\"-528.8\" font-family=\"Helvetica,sans-Serif\" font-size=\"14.00\">worst concavity &lt;= 0.225</text>\r\n<text text-anchor=\"middle\" x=\"1082.5\" y=\"-513.8\" font-family=\"Helvetica,sans-Serif\" font-size=\"14.00\">gini = 0.22</text>\r\n<text text-anchor=\"middle\" x=\"1082.5\" y=\"-498.8\" font-family=\"Helvetica,sans-Serif\" font-size=\"14.00\">samples = 175</text>\r\n<text text-anchor=\"middle\" x=\"1082.5\" y=\"-483.8\" font-family=\"Helvetica,sans-Serif\" font-size=\"14.00\">value = [153, 22]</text>\r\n<text text-anchor=\"middle\" x=\"1082.5\" y=\"-468.8\" font-family=\"Helvetica,sans-Serif\" font-size=\"14.00\">class = 0, Not ill</text>\r\n</g>\r\n<!-- 0&#45;&gt;18 -->\r\n<g id=\"edge18\" class=\"edge\"><title>0&#45;&gt;18</title>\r\n<path fill=\"none\" stroke=\"black\" d=\"M999.562,-579.907C1009.71,-570.56 1020.59,-560.538 1031.02,-550.929\"/>\r\n<polygon fill=\"black\" stroke=\"black\" points=\"1033.53,-553.371 1038.52,-544.021 1028.79,-548.222 1033.53,-553.371\"/>\r\n<text text-anchor=\"middle\" x=\"1037.49\" y=\"-565.3\" font-family=\"Helvetica,sans-Serif\" font-size=\"14.00\">False</text>\r\n</g>\r\n<!-- 2 -->\r\n<g id=\"node3\" class=\"node\"><title>2</title>\r\n<path fill=\"#3c9fe5\" stroke=\"black\" d=\"M632,-425C632,-425 461,-425 461,-425 455,-425 449,-419 449,-413 449,-413 449,-354 449,-354 449,-348 455,-342 461,-342 461,-342 632,-342 632,-342 638,-342 644,-348 644,-354 644,-354 644,-413 644,-413 644,-419 638,-425 632,-425\"/>\r\n<text text-anchor=\"middle\" x=\"546.5\" y=\"-409.8\" font-family=\"Helvetica,sans-Serif\" font-size=\"14.00\">worst smoothness &lt;= 0.178</text>\r\n<text text-anchor=\"middle\" x=\"546.5\" y=\"-394.8\" font-family=\"Helvetica,sans-Serif\" font-size=\"14.00\">gini = 0.03</text>\r\n<text text-anchor=\"middle\" x=\"546.5\" y=\"-379.8\" font-family=\"Helvetica,sans-Serif\" font-size=\"14.00\">samples = 264</text>\r\n<text text-anchor=\"middle\" x=\"546.5\" y=\"-364.8\" font-family=\"Helvetica,sans-Serif\" font-size=\"14.00\">value = [4, 260]</text>\r\n<text text-anchor=\"middle\" x=\"546.5\" y=\"-349.8\" font-family=\"Helvetica,sans-Serif\" font-size=\"14.00\">class = 1, ill</text>\r\n</g>\r\n<!-- 1&#45;&gt;2 -->\r\n<g id=\"edge2\" class=\"edge\"><title>1&#45;&gt;2</title>\r\n<path fill=\"none\" stroke=\"black\" d=\"M751.795,-469.374C721.487,-456.845 686.242,-442.273 653.597,-428.777\"/>\r\n<polygon fill=\"black\" stroke=\"black\" points=\"654.591,-425.401 644.013,-424.815 651.917,-431.87 654.591,-425.401\"/>\r\n</g>\r\n<!-- 13 -->\r\n<g id=\"node14\" class=\"node\"><title>13</title>\r\n<path fill=\"#f9e3d3\" stroke=\"black\" d=\"M898.5,-425C898.5,-425 760.5,-425 760.5,-425 754.5,-425 748.5,-419 748.5,-413 748.5,-413 748.5,-354 748.5,-354 748.5,-348 754.5,-342 760.5,-342 760.5,-342 898.5,-342 898.5,-342 904.5,-342 910.5,-348 910.5,-354 910.5,-354 910.5,-413 910.5,-413 910.5,-419 904.5,-425 898.5,-425\"/>\r\n<text text-anchor=\"middle\" x=\"829.5\" y=\"-409.8\" font-family=\"Helvetica,sans-Serif\" font-size=\"14.00\">mean texture &lt;= 18.68</text>\r\n<text text-anchor=\"middle\" x=\"829.5\" y=\"-394.8\" font-family=\"Helvetica,sans-Serif\" font-size=\"14.00\">gini = 0.492</text>\r\n<text text-anchor=\"middle\" x=\"829.5\" y=\"-379.8\" font-family=\"Helvetica,sans-Serif\" font-size=\"14.00\">samples = 16</text>\r\n<text text-anchor=\"middle\" x=\"829.5\" y=\"-364.8\" font-family=\"Helvetica,sans-Serif\" font-size=\"14.00\">value = [9, 7]</text>\r\n<text text-anchor=\"middle\" x=\"829.5\" y=\"-349.8\" font-family=\"Helvetica,sans-Serif\" font-size=\"14.00\">class = 0, Not ill</text>\r\n</g>\r\n<!-- 1&#45;&gt;13 -->\r\n<g id=\"edge13\" class=\"edge\"><title>1&#45;&gt;13</title>\r\n<path fill=\"none\" stroke=\"black\" d=\"M829.5,-460.907C829.5,-452.649 829.5,-443.864 829.5,-435.302\"/>\r\n<polygon fill=\"black\" stroke=\"black\" points=\"833,-435.021 829.5,-425.021 826,-435.021 833,-435.021\"/>\r\n</g>\r\n<!-- 3 -->\r\n<g id=\"node4\" class=\"node\"><title>3</title>\r\n<path fill=\"#3b9ee5\" stroke=\"black\" d=\"M410.5,-306C410.5,-306 302.5,-306 302.5,-306 296.5,-306 290.5,-300 290.5,-294 290.5,-294 290.5,-235 290.5,-235 290.5,-229 296.5,-223 302.5,-223 302.5,-223 410.5,-223 410.5,-223 416.5,-223 422.5,-229 422.5,-235 422.5,-235 422.5,-294 422.5,-294 422.5,-300 416.5,-306 410.5,-306\"/>\r\n<text text-anchor=\"middle\" x=\"356.5\" y=\"-290.8\" font-family=\"Helvetica,sans-Serif\" font-size=\"14.00\">area error &lt;= 48.7</text>\r\n<text text-anchor=\"middle\" x=\"356.5\" y=\"-275.8\" font-family=\"Helvetica,sans-Serif\" font-size=\"14.00\">gini = 0.023</text>\r\n<text text-anchor=\"middle\" x=\"356.5\" y=\"-260.8\" font-family=\"Helvetica,sans-Serif\" font-size=\"14.00\">samples = 262</text>\r\n<text text-anchor=\"middle\" x=\"356.5\" y=\"-245.8\" font-family=\"Helvetica,sans-Serif\" font-size=\"14.00\">value = [3, 259]</text>\r\n<text text-anchor=\"middle\" x=\"356.5\" y=\"-230.8\" font-family=\"Helvetica,sans-Serif\" font-size=\"14.00\">class = 1, ill</text>\r\n</g>\r\n<!-- 2&#45;&gt;3 -->\r\n<g id=\"edge3\" class=\"edge\"><title>2&#45;&gt;3</title>\r\n<path fill=\"none\" stroke=\"black\" d=\"M480.58,-341.907C464.664,-332.106 447.543,-321.563 431.254,-311.533\"/>\r\n<polygon fill=\"black\" stroke=\"black\" points=\"432.653,-308.284 422.303,-306.021 428.983,-314.245 432.653,-308.284\"/>\r\n</g>\r\n<!-- 10 -->\r\n<g id=\"node11\" class=\"node\"><title>10</title>\r\n<path fill=\"#ffffff\" stroke=\"black\" d=\"M608,-306C608,-306 485,-306 485,-306 479,-306 473,-300 473,-294 473,-294 473,-235 473,-235 473,-229 479,-223 485,-223 485,-223 608,-223 608,-223 614,-223 620,-229 620,-235 620,-235 620,-294 620,-294 620,-300 614,-306 608,-306\"/>\r\n<text text-anchor=\"middle\" x=\"546.5\" y=\"-290.8\" font-family=\"Helvetica,sans-Serif\" font-size=\"14.00\">texture error &lt;= 1.47</text>\r\n<text text-anchor=\"middle\" x=\"546.5\" y=\"-275.8\" font-family=\"Helvetica,sans-Serif\" font-size=\"14.00\">gini = 0.5</text>\r\n<text text-anchor=\"middle\" x=\"546.5\" y=\"-260.8\" font-family=\"Helvetica,sans-Serif\" font-size=\"14.00\">samples = 2</text>\r\n<text text-anchor=\"middle\" x=\"546.5\" y=\"-245.8\" font-family=\"Helvetica,sans-Serif\" font-size=\"14.00\">value = [1, 1]</text>\r\n<text text-anchor=\"middle\" x=\"546.5\" y=\"-230.8\" font-family=\"Helvetica,sans-Serif\" font-size=\"14.00\">class = 0, Not ill</text>\r\n</g>\r\n<!-- 2&#45;&gt;10 -->\r\n<g id=\"edge10\" class=\"edge\"><title>2&#45;&gt;10</title>\r\n<path fill=\"none\" stroke=\"black\" d=\"M546.5,-341.907C546.5,-333.649 546.5,-324.864 546.5,-316.302\"/>\r\n<polygon fill=\"black\" stroke=\"black\" points=\"550,-316.021 546.5,-306.021 543,-316.021 550,-316.021\"/>\r\n</g>\r\n<!-- 4 -->\r\n<g id=\"node5\" class=\"node\"><title>4</title>\r\n<path fill=\"#3b9ee5\" stroke=\"black\" d=\"M243,-187C243,-187 76,-187 76,-187 70,-187 64,-181 64,-175 64,-175 64,-116 64,-116 64,-110 70,-104 76,-104 76,-104 243,-104 243,-104 249,-104 255,-110 255,-116 255,-116 255,-175 255,-175 255,-181 249,-187 243,-187\"/>\r\n<text text-anchor=\"middle\" x=\"159.5\" y=\"-171.8\" font-family=\"Helvetica,sans-Serif\" font-size=\"14.00\">smoothness error &lt;= 0.003</text>\r\n<text text-anchor=\"middle\" x=\"159.5\" y=\"-156.8\" font-family=\"Helvetica,sans-Serif\" font-size=\"14.00\">gini = 0.015</text>\r\n<text text-anchor=\"middle\" x=\"159.5\" y=\"-141.8\" font-family=\"Helvetica,sans-Serif\" font-size=\"14.00\">samples = 260</text>\r\n<text text-anchor=\"middle\" x=\"159.5\" y=\"-126.8\" font-family=\"Helvetica,sans-Serif\" font-size=\"14.00\">value = [2, 258]</text>\r\n<text text-anchor=\"middle\" x=\"159.5\" y=\"-111.8\" font-family=\"Helvetica,sans-Serif\" font-size=\"14.00\">class = 1, ill</text>\r\n</g>\r\n<!-- 3&#45;&gt;4 -->\r\n<g id=\"edge4\" class=\"edge\"><title>3&#45;&gt;4</title>\r\n<path fill=\"none\" stroke=\"black\" d=\"M290.354,-224.215C273.063,-213.946 254.276,-202.788 236.475,-192.216\"/>\r\n<polygon fill=\"black\" stroke=\"black\" points=\"238.212,-189.177 227.827,-187.08 234.637,-195.195 238.212,-189.177\"/>\r\n</g>\r\n<!-- 7 -->\r\n<g id=\"node8\" class=\"node\"><title>7</title>\r\n<path fill=\"#ffffff\" stroke=\"black\" d=\"M427.5,-187C427.5,-187 285.5,-187 285.5,-187 279.5,-187 273.5,-181 273.5,-175 273.5,-175 273.5,-116 273.5,-116 273.5,-110 279.5,-104 285.5,-104 285.5,-104 427.5,-104 427.5,-104 433.5,-104 439.5,-110 439.5,-116 439.5,-116 439.5,-175 439.5,-175 439.5,-181 433.5,-187 427.5,-187\"/>\r\n<text text-anchor=\"middle\" x=\"356.5\" y=\"-171.8\" font-family=\"Helvetica,sans-Serif\" font-size=\"14.00\">mean radius &lt;= 12.265</text>\r\n<text text-anchor=\"middle\" x=\"356.5\" y=\"-156.8\" font-family=\"Helvetica,sans-Serif\" font-size=\"14.00\">gini = 0.5</text>\r\n<text text-anchor=\"middle\" x=\"356.5\" y=\"-141.8\" font-family=\"Helvetica,sans-Serif\" font-size=\"14.00\">samples = 2</text>\r\n<text text-anchor=\"middle\" x=\"356.5\" y=\"-126.8\" font-family=\"Helvetica,sans-Serif\" font-size=\"14.00\">value = [1, 1]</text>\r\n<text text-anchor=\"middle\" x=\"356.5\" y=\"-111.8\" font-family=\"Helvetica,sans-Serif\" font-size=\"14.00\">class = 0, Not ill</text>\r\n</g>\r\n<!-- 3&#45;&gt;7 -->\r\n<g id=\"edge7\" class=\"edge\"><title>3&#45;&gt;7</title>\r\n<path fill=\"none\" stroke=\"black\" d=\"M356.5,-222.907C356.5,-214.649 356.5,-205.864 356.5,-197.302\"/>\r\n<polygon fill=\"black\" stroke=\"black\" points=\"360,-197.021 356.5,-187.021 353,-197.021 360,-197.021\"/>\r\n</g>\r\n<!-- 5 -->\r\n<g id=\"node6\" class=\"node\"><title>5</title>\r\n<path fill=\"#61b1ea\" stroke=\"black\" d=\"M87,-68C87,-68 12,-68 12,-68 6,-68 0,-62 0,-56 0,-56 0,-12 0,-12 0,-6 6,-0 12,-0 12,-0 87,-0 87,-0 93,-0 99,-6 99,-12 99,-12 99,-56 99,-56 99,-62 93,-68 87,-68\"/>\r\n<text text-anchor=\"middle\" x=\"49.5\" y=\"-52.8\" font-family=\"Helvetica,sans-Serif\" font-size=\"14.00\">gini = 0.278</text>\r\n<text text-anchor=\"middle\" x=\"49.5\" y=\"-37.8\" font-family=\"Helvetica,sans-Serif\" font-size=\"14.00\">samples = 6</text>\r\n<text text-anchor=\"middle\" x=\"49.5\" y=\"-22.8\" font-family=\"Helvetica,sans-Serif\" font-size=\"14.00\">value = [1, 5]</text>\r\n<text text-anchor=\"middle\" x=\"49.5\" y=\"-7.8\" font-family=\"Helvetica,sans-Serif\" font-size=\"14.00\">class = 1, ill</text>\r\n</g>\r\n<!-- 4&#45;&gt;5 -->\r\n<g id=\"edge5\" class=\"edge\"><title>4&#45;&gt;5</title>\r\n<path fill=\"none\" stroke=\"black\" d=\"M118.54,-103.726C109.286,-94.5142 99.4636,-84.7364 90.2194,-75.5343\"/>\r\n<polygon fill=\"black\" stroke=\"black\" points=\"92.5081,-72.8741 82.9517,-68.2996 87.5696,-77.8351 92.5081,-72.8741\"/>\r\n</g>\r\n<!-- 6 -->\r\n<g id=\"node7\" class=\"node\"><title>6</title>\r\n<path fill=\"#3a9de5\" stroke=\"black\" d=\"M221.5,-68C221.5,-68 129.5,-68 129.5,-68 123.5,-68 117.5,-62 117.5,-56 117.5,-56 117.5,-12 117.5,-12 117.5,-6 123.5,-0 129.5,-0 129.5,-0 221.5,-0 221.5,-0 227.5,-0 233.5,-6 233.5,-12 233.5,-12 233.5,-56 233.5,-56 233.5,-62 227.5,-68 221.5,-68\"/>\r\n<text text-anchor=\"middle\" x=\"175.5\" y=\"-52.8\" font-family=\"Helvetica,sans-Serif\" font-size=\"14.00\">gini = 0.008</text>\r\n<text text-anchor=\"middle\" x=\"175.5\" y=\"-37.8\" font-family=\"Helvetica,sans-Serif\" font-size=\"14.00\">samples = 254</text>\r\n<text text-anchor=\"middle\" x=\"175.5\" y=\"-22.8\" font-family=\"Helvetica,sans-Serif\" font-size=\"14.00\">value = [1, 253]</text>\r\n<text text-anchor=\"middle\" x=\"175.5\" y=\"-7.8\" font-family=\"Helvetica,sans-Serif\" font-size=\"14.00\">class = 1, ill</text>\r\n</g>\r\n<!-- 4&#45;&gt;6 -->\r\n<g id=\"edge6\" class=\"edge\"><title>4&#45;&gt;6</title>\r\n<path fill=\"none\" stroke=\"black\" d=\"M165.458,-103.726C166.671,-95.4263 167.95,-86.6671 169.175,-78.2834\"/>\r\n<polygon fill=\"black\" stroke=\"black\" points=\"172.652,-78.7006 170.634,-68.2996 165.725,-77.6885 172.652,-78.7006\"/>\r\n</g>\r\n<!-- 8 -->\r\n<g id=\"node9\" class=\"node\"><title>8</title>\r\n<path fill=\"#e58139\" stroke=\"black\" d=\"M388,-68C388,-68 295,-68 295,-68 289,-68 283,-62 283,-56 283,-56 283,-12 283,-12 283,-6 289,-0 295,-0 295,-0 388,-0 388,-0 394,-0 400,-6 400,-12 400,-12 400,-56 400,-56 400,-62 394,-68 388,-68\"/>\r\n<text text-anchor=\"middle\" x=\"341.5\" y=\"-52.8\" font-family=\"Helvetica,sans-Serif\" font-size=\"14.00\">gini = 0.0</text>\r\n<text text-anchor=\"middle\" x=\"341.5\" y=\"-37.8\" font-family=\"Helvetica,sans-Serif\" font-size=\"14.00\">samples = 1</text>\r\n<text text-anchor=\"middle\" x=\"341.5\" y=\"-22.8\" font-family=\"Helvetica,sans-Serif\" font-size=\"14.00\">value = [1, 0]</text>\r\n<text text-anchor=\"middle\" x=\"341.5\" y=\"-7.8\" font-family=\"Helvetica,sans-Serif\" font-size=\"14.00\">class = 0, Not ill</text>\r\n</g>\r\n<!-- 7&#45;&gt;8 -->\r\n<g id=\"edge8\" class=\"edge\"><title>7&#45;&gt;8</title>\r\n<path fill=\"none\" stroke=\"black\" d=\"M350.915,-103.726C349.778,-95.4263 348.578,-86.6671 347.429,-78.2834\"/>\r\n<polygon fill=\"black\" stroke=\"black\" points=\"350.886,-77.732 346.062,-68.2996 343.951,-78.6821 350.886,-77.732\"/>\r\n</g>\r\n<!-- 9 -->\r\n<g id=\"node10\" class=\"node\"><title>9</title>\r\n<path fill=\"#399de5\" stroke=\"black\" d=\"M505,-68C505,-68 430,-68 430,-68 424,-68 418,-62 418,-56 418,-56 418,-12 418,-12 418,-6 424,-0 430,-0 430,-0 505,-0 505,-0 511,-0 517,-6 517,-12 517,-12 517,-56 517,-56 517,-62 511,-68 505,-68\"/>\r\n<text text-anchor=\"middle\" x=\"467.5\" y=\"-52.8\" font-family=\"Helvetica,sans-Serif\" font-size=\"14.00\">gini = 0.0</text>\r\n<text text-anchor=\"middle\" x=\"467.5\" y=\"-37.8\" font-family=\"Helvetica,sans-Serif\" font-size=\"14.00\">samples = 1</text>\r\n<text text-anchor=\"middle\" x=\"467.5\" y=\"-22.8\" font-family=\"Helvetica,sans-Serif\" font-size=\"14.00\">value = [0, 1]</text>\r\n<text text-anchor=\"middle\" x=\"467.5\" y=\"-7.8\" font-family=\"Helvetica,sans-Serif\" font-size=\"14.00\">class = 1, ill</text>\r\n</g>\r\n<!-- 7&#45;&gt;9 -->\r\n<g id=\"edge9\" class=\"edge\"><title>7&#45;&gt;9</title>\r\n<path fill=\"none\" stroke=\"black\" d=\"M397.832,-103.726C407.171,-94.5142 417.082,-84.7364 426.41,-75.5343\"/>\r\n<polygon fill=\"black\" stroke=\"black\" points=\"429.083,-77.8141 433.744,-68.2996 424.167,-72.8308 429.083,-77.8141\"/>\r\n</g>\r\n<!-- 11 -->\r\n<g id=\"node12\" class=\"node\"><title>11</title>\r\n<path fill=\"#399de5\" stroke=\"black\" d=\"M545,-179.5C545,-179.5 470,-179.5 470,-179.5 464,-179.5 458,-173.5 458,-167.5 458,-167.5 458,-123.5 458,-123.5 458,-117.5 464,-111.5 470,-111.5 470,-111.5 545,-111.5 545,-111.5 551,-111.5 557,-117.5 557,-123.5 557,-123.5 557,-167.5 557,-167.5 557,-173.5 551,-179.5 545,-179.5\"/>\r\n<text text-anchor=\"middle\" x=\"507.5\" y=\"-164.3\" font-family=\"Helvetica,sans-Serif\" font-size=\"14.00\">gini = 0.0</text>\r\n<text text-anchor=\"middle\" x=\"507.5\" y=\"-149.3\" font-family=\"Helvetica,sans-Serif\" font-size=\"14.00\">samples = 1</text>\r\n<text text-anchor=\"middle\" x=\"507.5\" y=\"-134.3\" font-family=\"Helvetica,sans-Serif\" font-size=\"14.00\">value = [0, 1]</text>\r\n<text text-anchor=\"middle\" x=\"507.5\" y=\"-119.3\" font-family=\"Helvetica,sans-Serif\" font-size=\"14.00\">class = 1, ill</text>\r\n</g>\r\n<!-- 10&#45;&gt;11 -->\r\n<g id=\"edge11\" class=\"edge\"><title>10&#45;&gt;11</title>\r\n<path fill=\"none\" stroke=\"black\" d=\"M532.969,-222.907C529.365,-212.094 525.459,-200.376 521.814,-189.441\"/>\r\n<polygon fill=\"black\" stroke=\"black\" points=\"525.038,-188.047 518.556,-179.667 518.398,-190.261 525.038,-188.047\"/>\r\n</g>\r\n<!-- 12 -->\r\n<g id=\"node13\" class=\"node\"><title>12</title>\r\n<path fill=\"#e58139\" stroke=\"black\" d=\"M680,-179.5C680,-179.5 587,-179.5 587,-179.5 581,-179.5 575,-173.5 575,-167.5 575,-167.5 575,-123.5 575,-123.5 575,-117.5 581,-111.5 587,-111.5 587,-111.5 680,-111.5 680,-111.5 686,-111.5 692,-117.5 692,-123.5 692,-123.5 692,-167.5 692,-167.5 692,-173.5 686,-179.5 680,-179.5\"/>\r\n<text text-anchor=\"middle\" x=\"633.5\" y=\"-164.3\" font-family=\"Helvetica,sans-Serif\" font-size=\"14.00\">gini = 0.0</text>\r\n<text text-anchor=\"middle\" x=\"633.5\" y=\"-149.3\" font-family=\"Helvetica,sans-Serif\" font-size=\"14.00\">samples = 1</text>\r\n<text text-anchor=\"middle\" x=\"633.5\" y=\"-134.3\" font-family=\"Helvetica,sans-Serif\" font-size=\"14.00\">value = [1, 0]</text>\r\n<text text-anchor=\"middle\" x=\"633.5\" y=\"-119.3\" font-family=\"Helvetica,sans-Serif\" font-size=\"14.00\">class = 0, Not ill</text>\r\n</g>\r\n<!-- 10&#45;&gt;12 -->\r\n<g id=\"edge12\" class=\"edge\"><title>10&#45;&gt;12</title>\r\n<path fill=\"none\" stroke=\"black\" d=\"M576.684,-222.907C585.136,-211.542 594.329,-199.178 602.809,-187.774\"/>\r\n<polygon fill=\"black\" stroke=\"black\" points=\"605.679,-189.78 608.837,-179.667 600.062,-185.603 605.679,-189.78\"/>\r\n</g>\r\n<!-- 14 -->\r\n<g id=\"node15\" class=\"node\"><title>14</title>\r\n<path fill=\"#55abe9\" stroke=\"black\" d=\"M837,-306C837,-306 682,-306 682,-306 676,-306 670,-300 670,-294 670,-294 670,-235 670,-235 670,-229 676,-223 682,-223 682,-223 837,-223 837,-223 843,-223 849,-229 849,-235 849,-235 849,-294 849,-294 849,-300 843,-306 837,-306\"/>\r\n<text text-anchor=\"middle\" x=\"759.5\" y=\"-290.8\" font-family=\"Helvetica,sans-Serif\" font-size=\"14.00\">mean concavity &lt;= 0.067</text>\r\n<text text-anchor=\"middle\" x=\"759.5\" y=\"-275.8\" font-family=\"Helvetica,sans-Serif\" font-size=\"14.00\">gini = 0.219</text>\r\n<text text-anchor=\"middle\" x=\"759.5\" y=\"-260.8\" font-family=\"Helvetica,sans-Serif\" font-size=\"14.00\">samples = 8</text>\r\n<text text-anchor=\"middle\" x=\"759.5\" y=\"-245.8\" font-family=\"Helvetica,sans-Serif\" font-size=\"14.00\">value = [1, 7]</text>\r\n<text text-anchor=\"middle\" x=\"759.5\" y=\"-230.8\" font-family=\"Helvetica,sans-Serif\" font-size=\"14.00\">class = 1, ill</text>\r\n</g>\r\n<!-- 13&#45;&gt;14 -->\r\n<g id=\"edge14\" class=\"edge\"><title>13&#45;&gt;14</title>\r\n<path fill=\"none\" stroke=\"black\" d=\"M805.214,-341.907C799.947,-333.105 794.322,-323.703 788.883,-314.612\"/>\r\n<polygon fill=\"black\" stroke=\"black\" points=\"791.881,-312.805 783.743,-306.021 785.874,-316.399 791.881,-312.805\"/>\r\n</g>\r\n<!-- 17 -->\r\n<g id=\"node18\" class=\"node\"><title>17</title>\r\n<path fill=\"#e58139\" stroke=\"black\" d=\"M972,-298.5C972,-298.5 879,-298.5 879,-298.5 873,-298.5 867,-292.5 867,-286.5 867,-286.5 867,-242.5 867,-242.5 867,-236.5 873,-230.5 879,-230.5 879,-230.5 972,-230.5 972,-230.5 978,-230.5 984,-236.5 984,-242.5 984,-242.5 984,-286.5 984,-286.5 984,-292.5 978,-298.5 972,-298.5\"/>\r\n<text text-anchor=\"middle\" x=\"925.5\" y=\"-283.3\" font-family=\"Helvetica,sans-Serif\" font-size=\"14.00\">gini = 0.0</text>\r\n<text text-anchor=\"middle\" x=\"925.5\" y=\"-268.3\" font-family=\"Helvetica,sans-Serif\" font-size=\"14.00\">samples = 8</text>\r\n<text text-anchor=\"middle\" x=\"925.5\" y=\"-253.3\" font-family=\"Helvetica,sans-Serif\" font-size=\"14.00\">value = [8, 0]</text>\r\n<text text-anchor=\"middle\" x=\"925.5\" y=\"-238.3\" font-family=\"Helvetica,sans-Serif\" font-size=\"14.00\">class = 0, Not ill</text>\r\n</g>\r\n<!-- 13&#45;&gt;17 -->\r\n<g id=\"edge17\" class=\"edge\"><title>13&#45;&gt;17</title>\r\n<path fill=\"none\" stroke=\"black\" d=\"M862.807,-341.907C872.223,-330.432 882.474,-317.938 891.907,-306.442\"/>\r\n<polygon fill=\"black\" stroke=\"black\" points=\"894.649,-308.618 898.286,-298.667 889.237,-304.178 894.649,-308.618\"/>\r\n</g>\r\n<!-- 15 -->\r\n<g id=\"node16\" class=\"node\"><title>15</title>\r\n<path fill=\"#399de5\" stroke=\"black\" d=\"M797,-179.5C797,-179.5 722,-179.5 722,-179.5 716,-179.5 710,-173.5 710,-167.5 710,-167.5 710,-123.5 710,-123.5 710,-117.5 716,-111.5 722,-111.5 722,-111.5 797,-111.5 797,-111.5 803,-111.5 809,-117.5 809,-123.5 809,-123.5 809,-167.5 809,-167.5 809,-173.5 803,-179.5 797,-179.5\"/>\r\n<text text-anchor=\"middle\" x=\"759.5\" y=\"-164.3\" font-family=\"Helvetica,sans-Serif\" font-size=\"14.00\">gini = 0.0</text>\r\n<text text-anchor=\"middle\" x=\"759.5\" y=\"-149.3\" font-family=\"Helvetica,sans-Serif\" font-size=\"14.00\">samples = 7</text>\r\n<text text-anchor=\"middle\" x=\"759.5\" y=\"-134.3\" font-family=\"Helvetica,sans-Serif\" font-size=\"14.00\">value = [0, 7]</text>\r\n<text text-anchor=\"middle\" x=\"759.5\" y=\"-119.3\" font-family=\"Helvetica,sans-Serif\" font-size=\"14.00\">class = 1, ill</text>\r\n</g>\r\n<!-- 14&#45;&gt;15 -->\r\n<g id=\"edge15\" class=\"edge\"><title>14&#45;&gt;15</title>\r\n<path fill=\"none\" stroke=\"black\" d=\"M759.5,-222.907C759.5,-212.204 759.5,-200.615 759.5,-189.776\"/>\r\n<polygon fill=\"black\" stroke=\"black\" points=\"763,-189.667 759.5,-179.667 756,-189.667 763,-189.667\"/>\r\n</g>\r\n<!-- 16 -->\r\n<g id=\"node17\" class=\"node\"><title>16</title>\r\n<path fill=\"#e58139\" stroke=\"black\" d=\"M932,-179.5C932,-179.5 839,-179.5 839,-179.5 833,-179.5 827,-173.5 827,-167.5 827,-167.5 827,-123.5 827,-123.5 827,-117.5 833,-111.5 839,-111.5 839,-111.5 932,-111.5 932,-111.5 938,-111.5 944,-117.5 944,-123.5 944,-123.5 944,-167.5 944,-167.5 944,-173.5 938,-179.5 932,-179.5\"/>\r\n<text text-anchor=\"middle\" x=\"885.5\" y=\"-164.3\" font-family=\"Helvetica,sans-Serif\" font-size=\"14.00\">gini = 0.0</text>\r\n<text text-anchor=\"middle\" x=\"885.5\" y=\"-149.3\" font-family=\"Helvetica,sans-Serif\" font-size=\"14.00\">samples = 1</text>\r\n<text text-anchor=\"middle\" x=\"885.5\" y=\"-134.3\" font-family=\"Helvetica,sans-Serif\" font-size=\"14.00\">value = [1, 0]</text>\r\n<text text-anchor=\"middle\" x=\"885.5\" y=\"-119.3\" font-family=\"Helvetica,sans-Serif\" font-size=\"14.00\">class = 0, Not ill</text>\r\n</g>\r\n<!-- 14&#45;&gt;16 -->\r\n<g id=\"edge16\" class=\"edge\"><title>14&#45;&gt;16</title>\r\n<path fill=\"none\" stroke=\"black\" d=\"M803.215,-222.907C815.811,-211.211 829.546,-198.457 842.122,-186.78\"/>\r\n<polygon fill=\"black\" stroke=\"black\" points=\"844.835,-189.036 849.782,-179.667 840.072,-183.907 844.835,-189.036\"/>\r\n</g>\r\n<!-- 19 -->\r\n<g id=\"node20\" class=\"node\"><title>19</title>\r\n<path fill=\"#49a5e7\" stroke=\"black\" d=\"M1150.5,-425C1150.5,-425 1014.5,-425 1014.5,-425 1008.5,-425 1002.5,-419 1002.5,-413 1002.5,-413 1002.5,-354 1002.5,-354 1002.5,-348 1008.5,-342 1014.5,-342 1014.5,-342 1150.5,-342 1150.5,-342 1156.5,-342 1162.5,-348 1162.5,-354 1162.5,-354 1162.5,-413 1162.5,-413 1162.5,-419 1156.5,-425 1150.5,-425\"/>\r\n<text text-anchor=\"middle\" x=\"1082.5\" y=\"-409.8\" font-family=\"Helvetica,sans-Serif\" font-size=\"14.00\">worst texture &lt;= 24.71</text>\r\n<text text-anchor=\"middle\" x=\"1082.5\" y=\"-394.8\" font-family=\"Helvetica,sans-Serif\" font-size=\"14.00\">gini = 0.142</text>\r\n<text text-anchor=\"middle\" x=\"1082.5\" y=\"-379.8\" font-family=\"Helvetica,sans-Serif\" font-size=\"14.00\">samples = 13</text>\r\n<text text-anchor=\"middle\" x=\"1082.5\" y=\"-364.8\" font-family=\"Helvetica,sans-Serif\" font-size=\"14.00\">value = [1, 12]</text>\r\n<text text-anchor=\"middle\" x=\"1082.5\" y=\"-349.8\" font-family=\"Helvetica,sans-Serif\" font-size=\"14.00\">class = 1, ill</text>\r\n</g>\r\n<!-- 18&#45;&gt;19 -->\r\n<g id=\"edge19\" class=\"edge\"><title>18&#45;&gt;19</title>\r\n<path fill=\"none\" stroke=\"black\" d=\"M1082.5,-460.907C1082.5,-452.649 1082.5,-443.864 1082.5,-435.302\"/>\r\n<polygon fill=\"black\" stroke=\"black\" points=\"1086,-435.021 1082.5,-425.021 1079,-435.021 1086,-435.021\"/>\r\n</g>\r\n<!-- 22 -->\r\n<g id=\"node23\" class=\"node\"><title>22</title>\r\n<path fill=\"#e78946\" stroke=\"black\" d=\"M1421,-425C1421,-425 1300,-425 1300,-425 1294,-425 1288,-419 1288,-413 1288,-413 1288,-354 1288,-354 1288,-348 1294,-342 1300,-342 1300,-342 1421,-342 1421,-342 1427,-342 1433,-348 1433,-354 1433,-354 1433,-413 1433,-413 1433,-419 1427,-425 1421,-425\"/>\r\n<text text-anchor=\"middle\" x=\"1360.5\" y=\"-409.8\" font-family=\"Helvetica,sans-Serif\" font-size=\"14.00\">worst area &lt;= 710.2</text>\r\n<text text-anchor=\"middle\" x=\"1360.5\" y=\"-394.8\" font-family=\"Helvetica,sans-Serif\" font-size=\"14.00\">gini = 0.116</text>\r\n<text text-anchor=\"middle\" x=\"1360.5\" y=\"-379.8\" font-family=\"Helvetica,sans-Serif\" font-size=\"14.00\">samples = 162</text>\r\n<text text-anchor=\"middle\" x=\"1360.5\" y=\"-364.8\" font-family=\"Helvetica,sans-Serif\" font-size=\"14.00\">value = [152, 10]</text>\r\n<text text-anchor=\"middle\" x=\"1360.5\" y=\"-349.8\" font-family=\"Helvetica,sans-Serif\" font-size=\"14.00\">class = 0, Not ill</text>\r\n</g>\r\n<!-- 18&#45;&gt;22 -->\r\n<g id=\"edge22\" class=\"edge\"><title>18&#45;&gt;22</title>\r\n<path fill=\"none\" stroke=\"black\" d=\"M1171.23,-464.159C1205.65,-449.671 1244.83,-433.182 1278.57,-418.98\"/>\r\n<polygon fill=\"black\" stroke=\"black\" points=\"1280.08,-422.143 1287.94,-415.038 1277.36,-415.691 1280.08,-422.143\"/>\r\n</g>\r\n<!-- 20 -->\r\n<g id=\"node21\" class=\"node\"><title>20</title>\r\n<path fill=\"#399de5\" stroke=\"black\" d=\"M1097,-298.5C1097,-298.5 1014,-298.5 1014,-298.5 1008,-298.5 1002,-292.5 1002,-286.5 1002,-286.5 1002,-242.5 1002,-242.5 1002,-236.5 1008,-230.5 1014,-230.5 1014,-230.5 1097,-230.5 1097,-230.5 1103,-230.5 1109,-236.5 1109,-242.5 1109,-242.5 1109,-286.5 1109,-286.5 1109,-292.5 1103,-298.5 1097,-298.5\"/>\r\n<text text-anchor=\"middle\" x=\"1055.5\" y=\"-283.3\" font-family=\"Helvetica,sans-Serif\" font-size=\"14.00\">gini = 0.0</text>\r\n<text text-anchor=\"middle\" x=\"1055.5\" y=\"-268.3\" font-family=\"Helvetica,sans-Serif\" font-size=\"14.00\">samples = 12</text>\r\n<text text-anchor=\"middle\" x=\"1055.5\" y=\"-253.3\" font-family=\"Helvetica,sans-Serif\" font-size=\"14.00\">value = [0, 12]</text>\r\n<text text-anchor=\"middle\" x=\"1055.5\" y=\"-238.3\" font-family=\"Helvetica,sans-Serif\" font-size=\"14.00\">class = 1, ill</text>\r\n</g>\r\n<!-- 19&#45;&gt;20 -->\r\n<g id=\"edge20\" class=\"edge\"><title>19&#45;&gt;20</title>\r\n<path fill=\"none\" stroke=\"black\" d=\"M1073.13,-341.907C1070.64,-331.094 1067.93,-319.376 1065.41,-308.441\"/>\r\n<polygon fill=\"black\" stroke=\"black\" points=\"1068.81,-307.624 1063.15,-298.667 1061.99,-309.198 1068.81,-307.624\"/>\r\n</g>\r\n<!-- 21 -->\r\n<g id=\"node22\" class=\"node\"><title>21</title>\r\n<path fill=\"#e58139\" stroke=\"black\" d=\"M1232,-298.5C1232,-298.5 1139,-298.5 1139,-298.5 1133,-298.5 1127,-292.5 1127,-286.5 1127,-286.5 1127,-242.5 1127,-242.5 1127,-236.5 1133,-230.5 1139,-230.5 1139,-230.5 1232,-230.5 1232,-230.5 1238,-230.5 1244,-236.5 1244,-242.5 1244,-242.5 1244,-286.5 1244,-286.5 1244,-292.5 1238,-298.5 1232,-298.5\"/>\r\n<text text-anchor=\"middle\" x=\"1185.5\" y=\"-283.3\" font-family=\"Helvetica,sans-Serif\" font-size=\"14.00\">gini = 0.0</text>\r\n<text text-anchor=\"middle\" x=\"1185.5\" y=\"-268.3\" font-family=\"Helvetica,sans-Serif\" font-size=\"14.00\">samples = 1</text>\r\n<text text-anchor=\"middle\" x=\"1185.5\" y=\"-253.3\" font-family=\"Helvetica,sans-Serif\" font-size=\"14.00\">value = [1, 0]</text>\r\n<text text-anchor=\"middle\" x=\"1185.5\" y=\"-238.3\" font-family=\"Helvetica,sans-Serif\" font-size=\"14.00\">class = 0, Not ill</text>\r\n</g>\r\n<!-- 19&#45;&gt;21 -->\r\n<g id=\"edge21\" class=\"edge\"><title>19&#45;&gt;21</title>\r\n<path fill=\"none\" stroke=\"black\" d=\"M1118.24,-341.907C1128.34,-330.432 1139.34,-317.938 1149.46,-306.442\"/>\r\n<polygon fill=\"black\" stroke=\"black\" points=\"1152.32,-308.486 1156.3,-298.667 1147.07,-303.86 1152.32,-308.486\"/>\r\n</g>\r\n<!-- 23 -->\r\n<g id=\"node24\" class=\"node\"><title>23</title>\r\n<path fill=\"#deeffb\" stroke=\"black\" d=\"M1447,-306C1447,-306 1274,-306 1274,-306 1268,-306 1262,-300 1262,-294 1262,-294 1262,-235 1262,-235 1262,-229 1268,-223 1274,-223 1274,-223 1447,-223 1447,-223 1453,-223 1459,-229 1459,-235 1459,-235 1459,-294 1459,-294 1459,-300 1453,-306 1447,-306\"/>\r\n<text text-anchor=\"middle\" x=\"1360.5\" y=\"-290.8\" font-family=\"Helvetica,sans-Serif\" font-size=\"14.00\">mean smoothness &lt;= 0.108</text>\r\n<text text-anchor=\"middle\" x=\"1360.5\" y=\"-275.8\" font-family=\"Helvetica,sans-Serif\" font-size=\"14.00\">gini = 0.496</text>\r\n<text text-anchor=\"middle\" x=\"1360.5\" y=\"-260.8\" font-family=\"Helvetica,sans-Serif\" font-size=\"14.00\">samples = 11</text>\r\n<text text-anchor=\"middle\" x=\"1360.5\" y=\"-245.8\" font-family=\"Helvetica,sans-Serif\" font-size=\"14.00\">value = [5, 6]</text>\r\n<text text-anchor=\"middle\" x=\"1360.5\" y=\"-230.8\" font-family=\"Helvetica,sans-Serif\" font-size=\"14.00\">class = 1, ill</text>\r\n</g>\r\n<!-- 22&#45;&gt;23 -->\r\n<g id=\"edge23\" class=\"edge\"><title>22&#45;&gt;23</title>\r\n<path fill=\"none\" stroke=\"black\" d=\"M1360.5,-341.907C1360.5,-333.649 1360.5,-324.864 1360.5,-316.302\"/>\r\n<polygon fill=\"black\" stroke=\"black\" points=\"1364,-316.021 1360.5,-306.021 1357,-316.021 1364,-316.021\"/>\r\n</g>\r\n<!-- 28 -->\r\n<g id=\"node29\" class=\"node\"><title>28</title>\r\n<path fill=\"#e6843e\" stroke=\"black\" d=\"M1633.5,-306C1633.5,-306 1489.5,-306 1489.5,-306 1483.5,-306 1477.5,-300 1477.5,-294 1477.5,-294 1477.5,-235 1477.5,-235 1477.5,-229 1483.5,-223 1489.5,-223 1489.5,-223 1633.5,-223 1633.5,-223 1639.5,-223 1645.5,-229 1645.5,-235 1645.5,-235 1645.5,-294 1645.5,-294 1645.5,-300 1639.5,-306 1633.5,-306\"/>\r\n<text text-anchor=\"middle\" x=\"1561.5\" y=\"-290.8\" font-family=\"Helvetica,sans-Serif\" font-size=\"14.00\">worst texture &lt;= 16.325</text>\r\n<text text-anchor=\"middle\" x=\"1561.5\" y=\"-275.8\" font-family=\"Helvetica,sans-Serif\" font-size=\"14.00\">gini = 0.052</text>\r\n<text text-anchor=\"middle\" x=\"1561.5\" y=\"-260.8\" font-family=\"Helvetica,sans-Serif\" font-size=\"14.00\">samples = 151</text>\r\n<text text-anchor=\"middle\" x=\"1561.5\" y=\"-245.8\" font-family=\"Helvetica,sans-Serif\" font-size=\"14.00\">value = [147, 4]</text>\r\n<text text-anchor=\"middle\" x=\"1561.5\" y=\"-230.8\" font-family=\"Helvetica,sans-Serif\" font-size=\"14.00\">class = 0, Not ill</text>\r\n</g>\r\n<!-- 22&#45;&gt;28 -->\r\n<g id=\"edge28\" class=\"edge\"><title>22&#45;&gt;28</title>\r\n<path fill=\"none\" stroke=\"black\" d=\"M1430.24,-341.907C1447.23,-332.016 1465.52,-321.368 1482.9,-311.254\"/>\r\n<polygon fill=\"black\" stroke=\"black\" points=\"1485.01,-314.076 1491.89,-306.021 1481.48,-308.027 1485.01,-314.076\"/>\r\n</g>\r\n<!-- 24 -->\r\n<g id=\"node25\" class=\"node\"><title>24</title>\r\n<path fill=\"#399de5\" stroke=\"black\" d=\"M1264,-179.5C1264,-179.5 1189,-179.5 1189,-179.5 1183,-179.5 1177,-173.5 1177,-167.5 1177,-167.5 1177,-123.5 1177,-123.5 1177,-117.5 1183,-111.5 1189,-111.5 1189,-111.5 1264,-111.5 1264,-111.5 1270,-111.5 1276,-117.5 1276,-123.5 1276,-123.5 1276,-167.5 1276,-167.5 1276,-173.5 1270,-179.5 1264,-179.5\"/>\r\n<text text-anchor=\"middle\" x=\"1226.5\" y=\"-164.3\" font-family=\"Helvetica,sans-Serif\" font-size=\"14.00\">gini = 0.0</text>\r\n<text text-anchor=\"middle\" x=\"1226.5\" y=\"-149.3\" font-family=\"Helvetica,sans-Serif\" font-size=\"14.00\">samples = 5</text>\r\n<text text-anchor=\"middle\" x=\"1226.5\" y=\"-134.3\" font-family=\"Helvetica,sans-Serif\" font-size=\"14.00\">value = [0, 5]</text>\r\n<text text-anchor=\"middle\" x=\"1226.5\" y=\"-119.3\" font-family=\"Helvetica,sans-Serif\" font-size=\"14.00\">class = 1, ill</text>\r\n</g>\r\n<!-- 23&#45;&gt;24 -->\r\n<g id=\"edge24\" class=\"edge\"><title>23&#45;&gt;24</title>\r\n<path fill=\"none\" stroke=\"black\" d=\"M1314.01,-222.907C1300.49,-211.101 1285.73,-198.217 1272.25,-186.45\"/>\r\n<polygon fill=\"black\" stroke=\"black\" points=\"1274.32,-183.608 1264.49,-179.667 1269.72,-188.881 1274.32,-183.608\"/>\r\n</g>\r\n<!-- 25 -->\r\n<g id=\"node26\" class=\"node\"><title>25</title>\r\n<path fill=\"#ea9a61\" stroke=\"black\" d=\"M1442.5,-187C1442.5,-187 1306.5,-187 1306.5,-187 1300.5,-187 1294.5,-181 1294.5,-175 1294.5,-175 1294.5,-116 1294.5,-116 1294.5,-110 1300.5,-104 1306.5,-104 1306.5,-104 1442.5,-104 1442.5,-104 1448.5,-104 1454.5,-110 1454.5,-116 1454.5,-116 1454.5,-175 1454.5,-175 1454.5,-181 1448.5,-187 1442.5,-187\"/>\r\n<text text-anchor=\"middle\" x=\"1374.5\" y=\"-171.8\" font-family=\"Helvetica,sans-Serif\" font-size=\"14.00\">worst texture &lt;= 22.21</text>\r\n<text text-anchor=\"middle\" x=\"1374.5\" y=\"-156.8\" font-family=\"Helvetica,sans-Serif\" font-size=\"14.00\">gini = 0.278</text>\r\n<text text-anchor=\"middle\" x=\"1374.5\" y=\"-141.8\" font-family=\"Helvetica,sans-Serif\" font-size=\"14.00\">samples = 6</text>\r\n<text text-anchor=\"middle\" x=\"1374.5\" y=\"-126.8\" font-family=\"Helvetica,sans-Serif\" font-size=\"14.00\">value = [5, 1]</text>\r\n<text text-anchor=\"middle\" x=\"1374.5\" y=\"-111.8\" font-family=\"Helvetica,sans-Serif\" font-size=\"14.00\">class = 0, Not ill</text>\r\n</g>\r\n<!-- 23&#45;&gt;25 -->\r\n<g id=\"edge25\" class=\"edge\"><title>23&#45;&gt;25</title>\r\n<path fill=\"none\" stroke=\"black\" d=\"M1365.36,-222.907C1366.36,-214.558 1367.42,-205.671 1368.45,-197.02\"/>\r\n<polygon fill=\"black\" stroke=\"black\" points=\"1371.94,-197.366 1369.65,-187.021 1364.99,-196.534 1371.94,-197.366\"/>\r\n</g>\r\n<!-- 26 -->\r\n<g id=\"node27\" class=\"node\"><title>26</title>\r\n<path fill=\"#399de5\" stroke=\"black\" d=\"M1348,-68C1348,-68 1273,-68 1273,-68 1267,-68 1261,-62 1261,-56 1261,-56 1261,-12 1261,-12 1261,-6 1267,-0 1273,-0 1273,-0 1348,-0 1348,-0 1354,-0 1360,-6 1360,-12 1360,-12 1360,-56 1360,-56 1360,-62 1354,-68 1348,-68\"/>\r\n<text text-anchor=\"middle\" x=\"1310.5\" y=\"-52.8\" font-family=\"Helvetica,sans-Serif\" font-size=\"14.00\">gini = 0.0</text>\r\n<text text-anchor=\"middle\" x=\"1310.5\" y=\"-37.8\" font-family=\"Helvetica,sans-Serif\" font-size=\"14.00\">samples = 1</text>\r\n<text text-anchor=\"middle\" x=\"1310.5\" y=\"-22.8\" font-family=\"Helvetica,sans-Serif\" font-size=\"14.00\">value = [0, 1]</text>\r\n<text text-anchor=\"middle\" x=\"1310.5\" y=\"-7.8\" font-family=\"Helvetica,sans-Serif\" font-size=\"14.00\">class = 1, ill</text>\r\n</g>\r\n<!-- 25&#45;&gt;26 -->\r\n<g id=\"edge26\" class=\"edge\"><title>25&#45;&gt;26</title>\r\n<path fill=\"none\" stroke=\"black\" d=\"M1350.67,-103.726C1345.6,-95.0615 1340.25,-85.8962 1335.15,-77.1802\"/>\r\n<polygon fill=\"black\" stroke=\"black\" points=\"1338.03,-75.167 1329.96,-68.2996 1331.99,-78.6992 1338.03,-75.167\"/>\r\n</g>\r\n<!-- 27 -->\r\n<g id=\"node28\" class=\"node\"><title>27</title>\r\n<path fill=\"#e58139\" stroke=\"black\" d=\"M1483,-68C1483,-68 1390,-68 1390,-68 1384,-68 1378,-62 1378,-56 1378,-56 1378,-12 1378,-12 1378,-6 1384,-0 1390,-0 1390,-0 1483,-0 1483,-0 1489,-0 1495,-6 1495,-12 1495,-12 1495,-56 1495,-56 1495,-62 1489,-68 1483,-68\"/>\r\n<text text-anchor=\"middle\" x=\"1436.5\" y=\"-52.8\" font-family=\"Helvetica,sans-Serif\" font-size=\"14.00\">gini = 0.0</text>\r\n<text text-anchor=\"middle\" x=\"1436.5\" y=\"-37.8\" font-family=\"Helvetica,sans-Serif\" font-size=\"14.00\">samples = 5</text>\r\n<text text-anchor=\"middle\" x=\"1436.5\" y=\"-22.8\" font-family=\"Helvetica,sans-Serif\" font-size=\"14.00\">value = [5, 0]</text>\r\n<text text-anchor=\"middle\" x=\"1436.5\" y=\"-7.8\" font-family=\"Helvetica,sans-Serif\" font-size=\"14.00\">class = 0, Not ill</text>\r\n</g>\r\n<!-- 25&#45;&gt;27 -->\r\n<g id=\"edge27\" class=\"edge\"><title>25&#45;&gt;27</title>\r\n<path fill=\"none\" stroke=\"black\" d=\"M1397.59,-103.726C1402.49,-95.0615 1407.68,-85.8962 1412.62,-77.1802\"/>\r\n<polygon fill=\"black\" stroke=\"black\" points=\"1415.76,-78.726 1417.65,-68.2996 1409.67,-75.277 1415.76,-78.726\"/>\r\n</g>\r\n<!-- 29 -->\r\n<g id=\"node30\" class=\"node\"><title>29</title>\r\n<path fill=\"#399de5\" stroke=\"black\" d=\"M1586,-179.5C1586,-179.5 1511,-179.5 1511,-179.5 1505,-179.5 1499,-173.5 1499,-167.5 1499,-167.5 1499,-123.5 1499,-123.5 1499,-117.5 1505,-111.5 1511,-111.5 1511,-111.5 1586,-111.5 1586,-111.5 1592,-111.5 1598,-117.5 1598,-123.5 1598,-123.5 1598,-167.5 1598,-167.5 1598,-173.5 1592,-179.5 1586,-179.5\"/>\r\n<text text-anchor=\"middle\" x=\"1548.5\" y=\"-164.3\" font-family=\"Helvetica,sans-Serif\" font-size=\"14.00\">gini = 0.0</text>\r\n<text text-anchor=\"middle\" x=\"1548.5\" y=\"-149.3\" font-family=\"Helvetica,sans-Serif\" font-size=\"14.00\">samples = 2</text>\r\n<text text-anchor=\"middle\" x=\"1548.5\" y=\"-134.3\" font-family=\"Helvetica,sans-Serif\" font-size=\"14.00\">value = [0, 2]</text>\r\n<text text-anchor=\"middle\" x=\"1548.5\" y=\"-119.3\" font-family=\"Helvetica,sans-Serif\" font-size=\"14.00\">class = 1, ill</text>\r\n</g>\r\n<!-- 28&#45;&gt;29 -->\r\n<g id=\"edge29\" class=\"edge\"><title>28&#45;&gt;29</title>\r\n<path fill=\"none\" stroke=\"black\" d=\"M1556.99,-222.907C1555.8,-212.204 1554.51,-200.615 1553.31,-189.776\"/>\r\n<polygon fill=\"black\" stroke=\"black\" points=\"1556.77,-189.219 1552.19,-179.667 1549.81,-189.992 1556.77,-189.219\"/>\r\n</g>\r\n<!-- 30 -->\r\n<g id=\"node31\" class=\"node\"><title>30</title>\r\n<path fill=\"#e5833c\" stroke=\"black\" d=\"M1774.5,-187C1774.5,-187 1628.5,-187 1628.5,-187 1622.5,-187 1616.5,-181 1616.5,-175 1616.5,-175 1616.5,-116 1616.5,-116 1616.5,-110 1622.5,-104 1628.5,-104 1628.5,-104 1774.5,-104 1774.5,-104 1780.5,-104 1786.5,-110 1786.5,-116 1786.5,-116 1786.5,-175 1786.5,-175 1786.5,-181 1780.5,-187 1774.5,-187\"/>\r\n<text text-anchor=\"middle\" x=\"1701.5\" y=\"-171.8\" font-family=\"Helvetica,sans-Serif\" font-size=\"14.00\">mean texture &lt;= 15.375</text>\r\n<text text-anchor=\"middle\" x=\"1701.5\" y=\"-156.8\" font-family=\"Helvetica,sans-Serif\" font-size=\"14.00\">gini = 0.026</text>\r\n<text text-anchor=\"middle\" x=\"1701.5\" y=\"-141.8\" font-family=\"Helvetica,sans-Serif\" font-size=\"14.00\">samples = 149</text>\r\n<text text-anchor=\"middle\" x=\"1701.5\" y=\"-126.8\" font-family=\"Helvetica,sans-Serif\" font-size=\"14.00\">value = [147, 2]</text>\r\n<text text-anchor=\"middle\" x=\"1701.5\" y=\"-111.8\" font-family=\"Helvetica,sans-Serif\" font-size=\"14.00\">class = 0, Not ill</text>\r\n</g>\r\n<!-- 28&#45;&gt;30 -->\r\n<g id=\"edge30\" class=\"edge\"><title>28&#45;&gt;30</title>\r\n<path fill=\"none\" stroke=\"black\" d=\"M1610.07,-222.907C1621.37,-213.469 1633.48,-203.343 1645.08,-193.649\"/>\r\n<polygon fill=\"black\" stroke=\"black\" points=\"1647.58,-196.119 1653.01,-187.021 1643.1,-190.748 1647.58,-196.119\"/>\r\n</g>\r\n<!-- 31 -->\r\n<g id=\"node32\" class=\"node\"><title>31</title>\r\n<path fill=\"#eeab7b\" stroke=\"black\" d=\"M1680,-68C1680,-68 1587,-68 1587,-68 1581,-68 1575,-62 1575,-56 1575,-56 1575,-12 1575,-12 1575,-6 1581,-0 1587,-0 1587,-0 1680,-0 1680,-0 1686,-0 1692,-6 1692,-12 1692,-12 1692,-56 1692,-56 1692,-62 1686,-68 1680,-68\"/>\r\n<text text-anchor=\"middle\" x=\"1633.5\" y=\"-52.8\" font-family=\"Helvetica,sans-Serif\" font-size=\"14.00\">gini = 0.375</text>\r\n<text text-anchor=\"middle\" x=\"1633.5\" y=\"-37.8\" font-family=\"Helvetica,sans-Serif\" font-size=\"14.00\">samples = 8</text>\r\n<text text-anchor=\"middle\" x=\"1633.5\" y=\"-22.8\" font-family=\"Helvetica,sans-Serif\" font-size=\"14.00\">value = [6, 2]</text>\r\n<text text-anchor=\"middle\" x=\"1633.5\" y=\"-7.8\" font-family=\"Helvetica,sans-Serif\" font-size=\"14.00\">class = 0, Not ill</text>\r\n</g>\r\n<!-- 30&#45;&gt;31 -->\r\n<g id=\"edge31\" class=\"edge\"><title>30&#45;&gt;31</title>\r\n<path fill=\"none\" stroke=\"black\" d=\"M1676.18,-103.726C1670.74,-94.9703 1664.99,-85.7032 1659.52,-76.9051\"/>\r\n<polygon fill=\"black\" stroke=\"black\" points=\"1662.43,-74.9484 1654.18,-68.2996 1656.48,-78.6413 1662.43,-74.9484\"/>\r\n</g>\r\n<!-- 32 -->\r\n<g id=\"node33\" class=\"node\"><title>32</title>\r\n<path fill=\"#e58139\" stroke=\"black\" d=\"M1815,-68C1815,-68 1722,-68 1722,-68 1716,-68 1710,-62 1710,-56 1710,-56 1710,-12 1710,-12 1710,-6 1716,-0 1722,-0 1722,-0 1815,-0 1815,-0 1821,-0 1827,-6 1827,-12 1827,-12 1827,-56 1827,-56 1827,-62 1821,-68 1815,-68\"/>\r\n<text text-anchor=\"middle\" x=\"1768.5\" y=\"-52.8\" font-family=\"Helvetica,sans-Serif\" font-size=\"14.00\">gini = 0.0</text>\r\n<text text-anchor=\"middle\" x=\"1768.5\" y=\"-37.8\" font-family=\"Helvetica,sans-Serif\" font-size=\"14.00\">samples = 141</text>\r\n<text text-anchor=\"middle\" x=\"1768.5\" y=\"-22.8\" font-family=\"Helvetica,sans-Serif\" font-size=\"14.00\">value = [141, 0]</text>\r\n<text text-anchor=\"middle\" x=\"1768.5\" y=\"-7.8\" font-family=\"Helvetica,sans-Serif\" font-size=\"14.00\">class = 0, Not ill</text>\r\n</g>\r\n<!-- 30&#45;&gt;32 -->\r\n<g id=\"edge32\" class=\"edge\"><title>30&#45;&gt;32</title>\r\n<path fill=\"none\" stroke=\"black\" d=\"M1726.45,-103.726C1731.81,-94.9703 1737.48,-85.7032 1742.86,-76.9051\"/>\r\n<polygon fill=\"black\" stroke=\"black\" points=\"1745.89,-78.6563 1748.12,-68.2996 1739.92,-75.0028 1745.89,-78.6563\"/>\r\n</g>\r\n</g>\r\n</svg>\r\n"
     },
     "execution_count": 102,
     "metadata": {},
     "output_type": "execute_result"
    }
   ],
   "source": [
    "import graphviz\n",
    "from sklearn.tree import export_graphviz\n",
    "\n",
    "graph_str = export_graphviz(tree_clf, feature_names=data_breast_cancer['feature_names'],\n",
    "                            class_names=[\"0, Not ill\", \"1, ill\"],\n",
    "                            rounded=True,\n",
    "                            filled=True,\n",
    "                            )\n",
    "graph = graphviz.Source(graph_str)\n",
    "graph"
   ],
   "metadata": {
    "collapsed": false,
    "pycharm": {
     "name": "#%%\n"
    }
   }
  },
  {
   "cell_type": "markdown",
   "source": [
    "Wygenruj rysunek drzewa decyzyjnego w pliku bc.png."
   ],
   "metadata": {
    "collapsed": false
   }
  },
  {
   "cell_type": "code",
   "execution_count": 103,
   "outputs": [
    {
     "name": "stdout",
     "output_type": "stream",
     "text": [
      "error when renaming\n"
     ]
    }
   ],
   "source": [
    "import os\n",
    "\n",
    "with open(\"bc.dot\", 'w') as f:\n",
    "    export_graphviz(tree_clf, out_file=f, rounded=True, filled=True)\n",
    "    f.close()\n",
    "    graphviz.render('dot', 'png', filepath=\"bc.dot\")\n",
    "\n",
    "try:\n",
    "    os.rename(\"bc.dot.png\", \"bc.png\")\n",
    "except:\n",
    "    print(\"error when renaming\")\n"
   ],
   "metadata": {
    "collapsed": false,
    "pycharm": {
     "name": "#%%\n"
    }
   }
  },
  {
   "cell_type": "markdown",
   "source": [
    "Zapisz w pliku Pickle f1acc_tree.pkl listę zawierającą: głebokość drzewa, f1 dla zbioru\n",
    "uczącego, f1 dla zbioru testowego, dokładność (accuracy) dla zbioru uczącego, dokładność\n",
    "(accuracy) dla zbioru testowego"
   ],
   "metadata": {
    "collapsed": false,
    "pycharm": {
     "name": "#%% md\n"
    }
   }
  },
  {
   "cell_type": "code",
   "execution_count": 104,
   "outputs": [
    {
     "name": "stdout",
     "output_type": "stream",
     "text": [
      "[5, 0.9930795847750865, 0.9411764705882353, 0.9912087912087912, 0.9298245614035088]\n"
     ]
    }
   ],
   "source": [
    "import pickle\n",
    "\n",
    "out = [tree_clf.get_depth(), f1_score(y_train, y_pred_train), f1_score(y_test, y_pred_test),\n",
    "       tree_clf.score(X_train, y_train), tree_clf.score(X_test, y_test)]\n",
    "\n",
    "with open('f1acc_tree.pkl', 'wb') as f:\n",
    "    pickle.dump(obj=out, file=f)\n",
    "\n",
    "with open('f1acc_tree.pkl', 'rb') as f:\n",
    "    print(pickle.load(f))"
   ],
   "metadata": {
    "collapsed": false,
    "pycharm": {
     "name": "#%%\n"
    }
   }
  },
  {
   "cell_type": "markdown",
   "source": [
    "# funkcja"
   ],
   "metadata": {
    "collapsed": false,
    "pycharm": {
     "name": "#%% md\n"
    }
   }
  },
  {
   "cell_type": "code",
   "execution_count": 105,
   "outputs": [
    {
     "data": {
      "text/plain": "<AxesSubplot:xlabel='x', ylabel='y'>"
     },
     "execution_count": 105,
     "metadata": {},
     "output_type": "execute_result"
    },
    {
     "data": {
      "text/plain": "<Figure size 432x288 with 1 Axes>",
      "image/png": "[encoded data removed]"
     },
     "metadata": {
      "needs_background": "light"
     },
     "output_type": "display_data"
    }
   ],
   "source": [
    "import numpy as np\n",
    "import pandas as pd\n",
    "\n",
    "size = 300\n",
    "X = np.random.rand(size) * 5 - 2.5\n",
    "w4, w3, w2, w1, w0 = 1, 2, 1, -4, 2\n",
    "y = w4 * (X ** 4) + w3 * (X ** 3) + w2 * (X ** 2) + w1 * X + w0 + np.random.randn(size) * 8 - 4\n",
    "df = pd.DataFrame({'x': X, 'y': y})\n",
    "df.plot.scatter(x='x', y='y')"
   ],
   "metadata": {
    "collapsed": false,
    "pycharm": {
     "name": "#%%\n"
    }
   }
  },
  {
   "cell_type": "markdown",
   "source": [
    "Podziel w/w zbiór na uczący i testujący w proprcjach 80/20."
   ],
   "metadata": {
    "collapsed": false
   }
  },
  {
   "cell_type": "code",
   "execution_count": 106,
   "outputs": [],
   "source": [
    "from sklearn.tree import DecisionTreeRegressor\n",
    "\n",
    "tree_reg = DecisionTreeRegressor()\n",
    "\n",
    "X_train, X_test, y_train, y_test = train_test_split(df[['x']], df[['y']], test_size=.2, random_state=5)"
   ],
   "metadata": {
    "collapsed": false,
    "pycharm": {
     "name": "#%%\n"
    }
   }
  },
  {
   "cell_type": "markdown",
   "source": [
    "Znajdź odpowiednią głębokośc drzewa decyzyjnego, tak aby wartość błędu średniokwadratowego (MSE), zarówno dla zbioru uczącego i testującego, były jak najmniejsze (uwaga naoverfitting)."
   ],
   "metadata": {
    "collapsed": false
   }
  },
  {
   "cell_type": "code",
   "execution_count": 107,
   "outputs": [
    {
     "data": {
      "text/plain": "[(106.54041313882571, 99.28216164204068, 1),\n (70.39615067650683, 93.24190967889992, 2),\n (57.15445596679649, 73.60247080850893, 3),\n (49.04390006951585, 73.88731713746712, 4),\n (44.71470204924762, 67.25751724167519, 5),\n (40.9460559536677, 76.51744028838233, 6),\n (35.955762640845045, 86.38838600083935, 7),\n (32.4167288556083, 92.41800206344132, 8),\n (30.080319527757524, 100.7350287899003, 9),\n (27.182851340446124, 101.88026134159402, 10),\n (22.14636972183643, 119.61500119075416, 11),\n (19.682518197628067, 123.59686985384384, 12),\n (16.2645689977498, 123.6475572922283, 13),\n (13.644330731572555, 126.4864706664973, 14),\n (11.404429249341687, 129.43047513739023, 15),\n (8.297700137898854, 135.27456393929927, 16),\n (6.387300248807955, 139.95341223568727, 17),\n (3.796496975671008, 144.35314288225774, 18),\n (2.9197128985921967, 145.30410776751407, 19),\n (2.0617677760724096, 145.0497762718015, 20),\n (1.6567033780790117, 145.29444935985302, 21),\n (1.2526215706291193, 144.79265466514298, 22),\n (0.47425085046421295, 145.32729874640088, 23),\n (0.18489774467922995, 147.58062326530248, 24),\n (0.0, 147.58062326530248, 25),\n (0.0, 147.58062326530248, 26),\n (0.0, 147.58062326530248, 27),\n (0.0, 147.58062326530248, 28),\n (0.0, 147.58062326530248, 29),\n (0.0, 147.58062326530248, 30),\n (0.0, 147.58062326530248, 31),\n (0.0, 147.58062326530248, 32),\n (0.0, 147.58062326530248, 33),\n (0.0, 147.58062326530248, 34),\n (0.0, 147.58062326530248, 35),\n (0.0, 147.58062326530248, 36),\n (0.0, 147.58062326530248, 37),\n (0.0, 147.58062326530248, 38),\n (0.0, 147.58062326530248, 39)]"
     },
     "execution_count": 107,
     "metadata": {},
     "output_type": "execute_result"
    }
   ],
   "source": [
    "from sklearn.metrics import mean_squared_error\n",
    "\n",
    "test = []\n",
    "for i in range(1, 40):\n",
    "    tree_reg = DecisionTreeRegressor(max_depth=i)\n",
    "    tree_reg.fit(X_train, y_train)\n",
    "    y_train_pred = tree_reg.predict(X_train)\n",
    "    y_test_pred = tree_reg.predict(X_test)\n",
    "    test.append((mean_squared_error(y_train, y_train_pred), mean_squared_error(y_test, y_test_pred), i))\n",
    "\n",
    "test"
   ],
   "metadata": {
    "collapsed": false,
    "pycharm": {
     "name": "#%%\n"
    }
   }
  },
  {
   "cell_type": "code",
   "execution_count": 108,
   "outputs": [],
   "source": [
    "tree_reg = DecisionTreeRegressor(max_depth=4)  #taka wartosc zostaje wybrana na podstawie testu wyzej\n",
    "tree_reg.fit(X_train, y_train)\n",
    "y_train_pred = tree_reg.predict(X_train)\n",
    "y_test_pred = tree_reg.predict(X_test)"
   ],
   "metadata": {
    "collapsed": false,
    "pycharm": {
     "name": "#%%\n"
    }
   }
  },
  {
   "cell_type": "code",
   "execution_count": 109,
   "outputs": [
    {
     "data": {
      "text/plain": "<matplotlib.collections.PathCollection at 0x2d032cb6050>"
     },
     "execution_count": 109,
     "metadata": {},
     "output_type": "execute_result"
    },
    {
     "data": {
      "text/plain": "<Figure size 432x288 with 1 Axes>",
      "image/png": "[encoded data removed]"
     },
     "metadata": {
      "needs_background": "light"
     },
     "output_type": "display_data"
    }
   ],
   "source": [
    "import matplotlib.pyplot as plt\n",
    "\n",
    "plt.scatter(df.x, df.y)\n",
    "plt.scatter(X_test, y_test_pred)\n",
    "plt.scatter(X_train, y_train_pred)"
   ],
   "metadata": {
    "collapsed": false,
    "pycharm": {
     "name": "#%%\n"
    }
   }
  },
  {
   "cell_type": "markdown",
   "source": [
    " Wygenruj rysunek drzewa decyzyjnego w pliku reg.png."
   ],
   "metadata": {
    "collapsed": false
   }
  },
  {
   "cell_type": "code",
   "execution_count": 110,
   "outputs": [
    {
     "name": "stdout",
     "output_type": "stream",
     "text": [
      "error when renaming\n"
     ]
    }
   ],
   "source": [
    "import os\n",
    "\n",
    "with open(\"reg.dot\", 'w') as f:\n",
    "    export_graphviz(tree_reg, out_file=f, rounded=True, filled=True)\n",
    "    f.close()\n",
    "graphviz.render('dot', 'png', filepath=\"reg.dot\")\n",
    "try:\n",
    "    os.rename(\"reg.dot.png\", \"reg.png\")\n",
    "except:\n",
    "    print(\"error when renaming\")\n"
   ],
   "metadata": {
    "collapsed": false,
    "pycharm": {
     "name": "#%%\n"
    }
   }
  },
  {
   "cell_type": "markdown",
   "source": [
    "Zapisz w pliku Pickle mse_tree.pkl listę zawierającą: głebokość drzewa, MSE dla zbioru\n",
    "uczącego, MSE dla zbioru testowego"
   ],
   "metadata": {
    "collapsed": false,
    "pycharm": {
     "name": "#%% md\n"
    }
   }
  },
  {
   "cell_type": "code",
   "execution_count": 111,
   "outputs": [
    {
     "name": "stdout",
     "output_type": "stream",
     "text": [
      "[4, 49.04390006951585, 73.88731713746712]\n"
     ]
    }
   ],
   "source": [
    "out = [tree_reg.get_depth(),  #głebokość drzewa\n",
    "       mean_squared_error(y_train, y_train_pred),  #MSE dla zbioru uczącego\n",
    "       mean_squared_error(y_test, y_test_pred)]  #MSE dla zbioru testowego\n",
    "\n",
    "with open('mse_tree.pkl', 'wb') as f:\n",
    "    pickle.dump(obj=out, file=f)\n",
    "\n",
    "with open('mse_tree.pkl', 'rb') as f:\n",
    "    print(pickle.load(f))"
   ],
   "metadata": {
    "collapsed": false,
    "pycharm": {
     "name": "#%%\n"
    }
   }
  }
 ],
 "metadata": {
  "kernelspec": {
   "display_name": "Python 3",
   "language": "python",
   "name": "python3"
  },
  "language_info": {
   "codemirror_mode": {
    "name": "ipython",
    "version": 2
   },
   "file_extension": ".py",
   "mimetype": "text/x-python",
   "name": "python",
   "nbconvert_exporter": "python",
   "pygments_lexer": "ipython2",
   "version": "2.7.6"
  }
 },
 "nbformat": 4,
 "nbformat_minor": 0
}