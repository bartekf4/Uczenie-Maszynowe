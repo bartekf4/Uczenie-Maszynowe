{
 "cells": [
  {
   "cell_type": "markdown",
   "metadata": {
    "collapsed": true,
    "pycharm": {
     "name": "#%% md\n"
    }
   },
   "source": [
    "# Przygotowanie danych"
   ]
  },
  {
   "cell_type": "code",
   "execution_count": 1,
   "metadata": {
    "pycharm": {
     "is_executing": true,
     "name": "#%%\n"
    }
   },
   "outputs": [],
   "source": [
    "from sklearn.datasets import fetch_openml\n",
    "import numpy as np\n",
    "\n",
    "mnist = fetch_openml('mnist_784', version=1, as_frame=False)\n",
    "mnist.target = mnist.target.astype(np.uint8)\n",
    "X = mnist[\"data\"]\n",
    "y = mnist[\"target\"]"
   ]
  },
  {
   "cell_type": "code",
   "execution_count": 2,
   "metadata": {
    "pycharm": {
     "is_executing": true,
     "name": "#%%\n"
    }
   },
   "outputs": [],
   "source": [
    "from sklearn.cluster import KMeans\n",
    "\n",
    "list_of_kmeans = []\n",
    "list_of_y_pred = []\n",
    "\n",
    "for i in range(8, 13, 1):\n",
    "    kmeans = KMeans(n_clusters=i, random_state=42)\n",
    "    y_pred = kmeans.fit_predict(X, y)\n",
    "\n",
    "    list_of_y_pred.append(y_pred)\n",
    "    list_of_kmeans.append(kmeans)"
   ]
  },
  {
   "cell_type": "code",
   "execution_count": 3,
   "metadata": {
    "pycharm": {
     "is_executing": true,
     "name": "#%%\n"
    }
   },
   "outputs": [
    {
     "data": {
      "text/plain": [
       "[0.07338401965925966,\n",
       " 0.05683381826333592,\n",
       " 0.05869201052848778,\n",
       " 0.05836351154790604,\n",
       " 0.05894738457992754]"
      ]
     },
     "execution_count": 3,
     "metadata": {},
     "output_type": "execute_result"
    }
   ],
   "source": [
    "from sklearn.metrics import silhouette_score\n",
    "\n",
    "kmeans_sil = []\n",
    "for kmean in list_of_kmeans:\n",
    "    kmeans_sil.append(silhouette_score(X, kmean.labels_))\n",
    "kmeans_sil"
   ]
  },
  {
   "cell_type": "code",
   "execution_count": 4,
   "metadata": {
    "pycharm": {
     "is_executing": true,
     "name": "#%%\n"
    }
   },
   "outputs": [
    {
     "name": "stdout",
     "output_type": "stream",
     "text": [
      "[0.07338401965925966, 0.05683381826333592, 0.05869201052848778, 0.05836351154790604, 0.05894738457992754]\n"
     ]
    }
   ],
   "source": [
    "import pickle\n",
    "\n",
    "with open('kmeans_sil.pkl', 'wb') as file:\n",
    "    pickle.dump(kmeans_sil, file)\n",
    "\n",
    "with open('kmeans_sil.pkl', 'rb') as file:\n",
    "    print(pickle.load(file))"
   ]
  },
  {
   "cell_type": "code",
   "execution_count": 9,
   "metadata": {
    "pycharm": {
     "is_executing": true,
     "name": "#%%\n"
    }
   },
   "outputs": [
    {
     "data": {
      "text/plain": [
       "array([[ 290,    2, 1265,   39,    9,    7,  162,    4,   72, 5053],\n",
       "       [   8, 4293,    7,    7,   10,   11,    7, 3526,    8,    0],\n",
       "       [ 323,  423,  246,  216, 4863,   78,  147,  436,  201,   57],\n",
       "       [4581,  449,  461,  193,  216,   45,   31,   58, 1083,   24],\n",
       "       [   0,  178,  288, 3728,   29, 2173,  168,  234,   17,    9],\n",
       "       [2129,  155, 1812,  432,    7,  215,   67,  280, 1156,   60],\n",
       "       [  38,  190, 2068,   67,   53,    4, 4326,   45,   14,   71],\n",
       "       [   6,  372,   12, 2094,   53, 4399,    4,  314,   18,   21],\n",
       "       [1212,  335,  292,  208,   53,  193,   51,  330, 4115,   36],\n",
       "       [  87,  261,   31, 3462,   19, 2849,   16,   95,   87,   51]])"
      ]
     },
     "execution_count": 9,
     "metadata": {},
     "output_type": "execute_result"
    }
   ],
   "source": [
    "from sklearn.metrics import confusion_matrix\n",
    "\n",
    "con_mat = confusion_matrix(y,list_of_y_pred[2])\n",
    "con_mat"
   ]
  },
  {
   "cell_type": "code",
   "execution_count": 17,
   "metadata": {},
   "outputs": [
    {
     "ename": "AttributeError",
     "evalue": "module 'numpy' has no attribute 'set'",
     "output_type": "error",
     "traceback": [
      "\u001b[0;31m---------------------------------------------------------------------------\u001b[0m",
      "\u001b[0;31mAttributeError\u001b[0m                            Traceback (most recent call last)",
      "Input \u001b[0;32mIn [17]\u001b[0m, in \u001b[0;36m<module>\u001b[0;34m\u001b[0m\n\u001b[0;32m----> 1\u001b[0m kmeans_argmax \u001b[38;5;241m=\u001b[39m \u001b[43mnp\u001b[49m\u001b[38;5;241;43m.\u001b[39;49m\u001b[43mset\u001b[49m()\n\u001b[1;32m      2\u001b[0m \u001b[38;5;28;01mfor\u001b[39;00m row \u001b[38;5;129;01min\u001b[39;00m con_mat:\n\u001b[1;32m      3\u001b[0m     kmeans_argmax\u001b[38;5;241m.\u001b[39madd(np\u001b[38;5;241m.\u001b[39margmax(row))\n",
      "File \u001b[0;32m/opt/homebrew/Caskroom/miniforge/base/envs/ml/lib/python3.9/site-packages/numpy/__init__.py:315\u001b[0m, in \u001b[0;36m__getattr__\u001b[0;34m(attr)\u001b[0m\n\u001b[1;32m    312\u001b[0m     \u001b[38;5;28;01mfrom\u001b[39;00m \u001b[38;5;21;01m.\u001b[39;00m\u001b[38;5;21;01mtesting\u001b[39;00m \u001b[38;5;28;01mimport\u001b[39;00m Tester\n\u001b[1;32m    313\u001b[0m     \u001b[38;5;28;01mreturn\u001b[39;00m Tester\n\u001b[0;32m--> 315\u001b[0m \u001b[38;5;28;01mraise\u001b[39;00m \u001b[38;5;167;01mAttributeError\u001b[39;00m(\u001b[38;5;124m\"\u001b[39m\u001b[38;5;124mmodule \u001b[39m\u001b[38;5;132;01m{!r}\u001b[39;00m\u001b[38;5;124m has no attribute \u001b[39m\u001b[38;5;124m\"\u001b[39m\n\u001b[1;32m    316\u001b[0m                      \u001b[38;5;124m\"\u001b[39m\u001b[38;5;132;01m{!r}\u001b[39;00m\u001b[38;5;124m\"\u001b[39m\u001b[38;5;241m.\u001b[39mformat(\u001b[38;5;18m__name__\u001b[39m, attr))\n",
      "\u001b[0;31mAttributeError\u001b[0m: module 'numpy' has no attribute 'set'"
     ]
    }
   ],
   "source": [
    "kmeans_argmax = np.set()\n",
    "for row in con_mat:\n",
    "    kmeans_argmax.add(np.argmax(row))"
   ]
  },
  {
   "cell_type": "code",
   "execution_count": null,
   "metadata": {},
   "outputs": [],
   "source": []
  }
 ],
 "metadata": {
  "kernelspec": {
   "display_name": "Python 3 (ipykernel)",
   "language": "python",
   "name": "python3"
  },
  "language_info": {
   "codemirror_mode": {
    "name": "ipython",
    "version": 3
   },
   "file_extension": ".py",
   "mimetype": "text/x-python",
   "name": "python",
   "nbconvert_exporter": "python",
   "pygments_lexer": "ipython3",
   "version": "3.9.10"
  }
 },
 "nbformat": 4,
 "nbformat_minor": 1
}
