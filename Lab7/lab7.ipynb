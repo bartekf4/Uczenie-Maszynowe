{
 "cells": [
  {
   "cell_type": "markdown",
   "metadata": {
    "collapsed": true,
    "pycharm": {
     "name": "#%% md\n"
    }
   },
   "source": [
    "# Przygotowanie danych"
   ],
   "outputs": [],
   "execution_count": 1
  },
  {
   "cell_type": "code",
   "source": [
    "from sklearn.datasets import fetch_openml\n",
    "import numpy as np\n",
    "\n",
    "mnist = fetch_openml('mnist_784', version=1, as_frame=False)\n",
    "mnist.target = mnist.target.astype(np.uint8)\n",
    "X = mnist[\"data\"]\n",
    "y = mnist[\"target\"]"
   ],
   "metadata": {
    "collapsed": false,
    "pycharm": {
     "name": "#%%\n",
     "is_executing": true
    }
   },
   "execution_count": null,
   "outputs": []
  },
  {
   "cell_type": "markdown",
   "source": [
    "Pozyskane dane (zmienna X) reprezentują zeskanowane znaki nieznanego alfabetu. Celem ćwiczenia jest identyfikacja ile tych znaków jest i jak mogą one wyglądać.\n",
    "Zakładając, że możemy mieć do czynienia z 8–12 różnymi znakami użyj metody centroidów do ich klasteryzacji.\n"
   ],
   "metadata": {
    "collapsed": false
   }
  },
  {
   "cell_type": "code",
   "execution_count": null,
   "outputs": [],
   "source": [
    "from sklearn.cluster import KMeans\n",
    "\n",
    "list_of_kmeans = []\n",
    "list_of_y_pred = []\n",
    "\n",
    "for i in range(8, 13, 1):\n",
    "    kmeans = KMeans(n_clusters=i, random_state=42)\n",
    "    y_pred = kmeans.fit_predict(X, y)\n",
    "\n",
    "    list_of_y_pred.append(y_pred)\n",
    "    list_of_kmeans.append(kmeans)"
   ],
   "metadata": {
    "collapsed": false,
    "pycharm": {
     "name": "#%%\n",
     "is_executing": true
    }
   }
  },
  {
   "cell_type": "code",
   "execution_count": null,
   "outputs": [],
   "source": [
    "from sklearn.metrics import silhouette_score\n",
    "\n",
    "kmeans_sil = []\n",
    "for kmean in list_of_kmeans:\n",
    "    kmeans_sil.append(silhouette_score(X, kmean.labels_))\n",
    "kmeans_sil"
   ],
   "metadata": {
    "collapsed": false,
    "pycharm": {
     "name": "#%%\n",
     "is_executing": true
    }
   }
  },
  {
   "cell_type": "code",
   "execution_count": null,
   "outputs": [],
   "source": [
    "import pickle\n",
    "\n",
    "with open('kmeans_sil.pkl', 'wb') as file:\n",
    "    pickle.dump(kmeans_sil, file)\n",
    "\n",
    "with open('kmeans_sil.pkl', 'rb') as file:\n",
    "    print(pickle.load(file))"
   ],
   "metadata": {
    "collapsed": false,
    "pycharm": {
     "name": "#%%\n",
     "is_executing": true
    }
   }
  },
  {
   "cell_type": "code",
   "execution_count": null,
   "outputs": [],
   "source": [
    "from sklearn.metrics import confusion_matrix\n",
    "\n",
    "list_of_con_mat = []\n",
    "for y_pred in list_of_y_pred:\n",
    "    list_of_con_mat.append(confusion_matrix(y, y_pred))"
   ],
   "metadata": {
    "collapsed": false,
    "pycharm": {
     "name": "#%%\n",
     "is_executing": true
    }
   }
  }
 ],
 "metadata": {
  "kernelspec": {
   "display_name": "Python 3",
   "language": "python",
   "name": "python3"
  },
  "language_info": {
   "codemirror_mode": {
    "name": "ipython",
    "version": 2
   },
   "file_extension": ".py",
   "mimetype": "text/x-python",
   "name": "python",
   "nbconvert_exporter": "python",
   "pygments_lexer": "ipython2",
   "version": "2.7.6"
  }
 },
 "nbformat": 4,
 "nbformat_minor": 0
}