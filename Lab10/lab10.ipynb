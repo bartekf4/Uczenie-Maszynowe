{
 "cells": [
  {
   "cell_type": "markdown",
   "metadata": {
    "collapsed": true,
    "pycharm": {
     "name": "#%% md\n"
    }
   },
   "source": [
    "Pobierz zbiór danych Fashion MNIST."
   ]
  },
  {
   "cell_type": "code",
   "execution_count": 140,
   "outputs": [],
   "source": [
    "import tensorflow as tf\n",
    "\n",
    "fashion_mnist = tf.keras.datasets.fashion_mnist\n",
    "(X_train, y_train), (X_test, y_test) = fashion_mnist.load_data()\n",
    "assert X_train.shape == (60000, 28, 28)\n",
    "assert X_test.shape == (10000, 28, 28)\n",
    "assert y_train.shape == (60000,)\n",
    "assert y_test.shape == (10000,)"
   ],
   "metadata": {
    "collapsed": false,
    "pycharm": {
     "name": "#%%\n"
    }
   }
  },
  {
   "cell_type": "markdown",
   "source": [
    "Wyświetl przykładowy rysunek używany do klasyfikacji:"
   ],
   "metadata": {
    "collapsed": false,
    "pycharm": {
     "name": "#%% md\n"
    }
   }
  },
  {
   "cell_type": "code",
   "execution_count": 141,
   "outputs": [
    {
     "data": {
      "text/plain": "<Figure size 432x288 with 1 Axes>",
      "image/png": "[encoded data removed]"
     },
     "metadata": {
      "needs_background": "light"
     },
     "output_type": "display_data"
    }
   ],
   "source": [
    "import matplotlib.pyplot as plt\n",
    "\n",
    "plt.imshow(X_train[142], cmap=\"binary\")\n",
    "plt.axis('off')\n",
    "plt.show()"
   ],
   "metadata": {
    "collapsed": false,
    "pycharm": {
     "name": "#%%\n"
    }
   }
  },
  {
   "cell_type": "code",
   "execution_count": 142,
   "outputs": [
    {
     "data": {
      "text/plain": "'but'"
     },
     "execution_count": 142,
     "metadata": {},
     "output_type": "execute_result"
    }
   ],
   "source": [
    "class_names = [\"koszulka\", \"spodnie\", \"pulower\", \"sukienka\", \"kurtka\",\n",
    "               \"sandał\", \"koszula\", \"but\", \"torba\", \"kozak\"]\n",
    "class_names[y_train[142]]"
   ],
   "metadata": {
    "collapsed": false,
    "pycharm": {
     "name": "#%%\n"
    }
   }
  },
  {
   "cell_type": "code",
   "execution_count": 143,
   "outputs": [
    {
     "data": {
      "text/plain": "60000"
     },
     "execution_count": 143,
     "metadata": {},
     "output_type": "execute_result"
    }
   ],
   "source": [
    "len(X_train)"
   ],
   "metadata": {
    "collapsed": false,
    "pycharm": {
     "name": "#%%\n"
    }
   }
  },
  {
   "cell_type": "code",
   "execution_count": 143,
   "outputs": [],
   "source": [],
   "metadata": {
    "collapsed": false,
    "pycharm": {
     "name": "#%%\n"
    }
   }
  },
  {
   "cell_type": "code",
   "execution_count": 144,
   "outputs": [],
   "source": [
    "import numpy as np\n",
    "\n",
    "X_train = np.array(X_train) / 255\n",
    "X_test = np.array(X_test) / 255"
   ],
   "metadata": {
    "collapsed": false,
    "pycharm": {
     "name": "#%%\n"
    }
   }
  },
  {
   "cell_type": "code",
   "execution_count": 145,
   "outputs": [],
   "source": [
    "from tensorflow import keras\n",
    "\n",
    "model = keras.models.Sequential()\n",
    "\n",
    "model.add(keras.layers.Flatten(input_shape=[28, 28]))\n",
    "model.add(keras.layers.Dense(300))\n",
    "model.add(keras.layers.Dense(100))\n",
    "model.add(keras.layers.Dense(10, activation=\"softmax\"))\n"
   ],
   "metadata": {
    "collapsed": false,
    "pycharm": {
     "name": "#%%\n"
    }
   }
  },
  {
   "cell_type": "code",
   "execution_count": 146,
   "outputs": [
    {
     "name": "stdout",
     "output_type": "stream",
     "text": [
      "Model: \"sequential_16\"\n",
      "_________________________________________________________________\n",
      " Layer (type)                Output Shape              Param #   \n",
      "=================================================================\n",
      " flatten_8 (Flatten)         (None, 784)               0         \n",
      "                                                                 \n",
      " dense_31 (Dense)            (None, 300)               235500    \n",
      "                                                                 \n",
      " dense_32 (Dense)            (None, 100)               30100     \n",
      "                                                                 \n",
      " dense_33 (Dense)            (None, 10)                1010      \n",
      "                                                                 \n",
      "=================================================================\n",
      "Total params: 266,610\n",
      "Trainable params: 266,610\n",
      "Non-trainable params: 0\n",
      "_________________________________________________________________\n",
      "You must install pydot (`pip install pydot`) and install graphviz (see instructions at https://graphviz.gitlab.io/download/) for plot_model/model_to_dot to work.\n"
     ]
    }
   ],
   "source": [
    "model.summary()\n",
    "keras.utils.plot_model(model, \"fashion_mnist.png\", show_shapes=True)"
   ],
   "metadata": {
    "collapsed": false,
    "pycharm": {
     "name": "#%%\n"
    }
   }
  },
  {
   "cell_type": "markdown",
   "source": [
    "Skompiluj model, podając rzadką entropię krzyżową jako funkcję straty, SGD jako opymalizator i\n",
    "dokładność jako metrykę"
   ],
   "metadata": {
    "collapsed": false,
    "pycharm": {
     "name": "#%% md\n"
    }
   }
  },
  {
   "cell_type": "code",
   "execution_count": 147,
   "outputs": [],
   "source": [
    "model.compile(loss=\"sparse_categorical_crossentropy\", optimizer=\"sgd\", metrics=[\"accuracy\"])"
   ],
   "metadata": {
    "collapsed": false,
    "pycharm": {
     "name": "#%%\n"
    }
   }
  },
  {
   "cell_type": "code",
   "execution_count": 148,
   "outputs": [],
   "source": [
    "import os\n",
    "\n",
    "root_logdir = os.path.join(os.curdir, \"image_logs\")\n",
    "\n",
    "\n",
    "def get_run_logdir():\n",
    "    import time\n",
    "    run_id = time.strftime(\"run_%Y_%m_%d-%H_%M_%S\")\n",
    "    return os.path.join(root_logdir, run_id)\n",
    "\n",
    "\n",
    "run_logdir = get_run_logdir()\n",
    "tensorboard_cb = tf.keras.callbacks.TensorBoard(run_logdir)"
   ],
   "metadata": {
    "collapsed": false,
    "pycharm": {
     "name": "#%%\n"
    }
   }
  },
  {
   "cell_type": "code",
   "execution_count": 149,
   "outputs": [
    {
     "name": "stdout",
     "output_type": "stream",
     "text": [
      "Epoch 1/20\n",
      "1688/1688 [==============================] - 5s 3ms/step - loss: 0.6231 - accuracy: 0.7877 - val_loss: 0.5212 - val_accuracy: 0.8195\n",
      "Epoch 2/20\n",
      "1688/1688 [==============================] - 4s 2ms/step - loss: 0.4803 - accuracy: 0.8340 - val_loss: 0.4868 - val_accuracy: 0.8298\n",
      "Epoch 3/20\n",
      "1688/1688 [==============================] - 4s 2ms/step - loss: 0.4558 - accuracy: 0.8419 - val_loss: 0.4567 - val_accuracy: 0.8367\n",
      "Epoch 4/20\n",
      "1688/1688 [==============================] - 4s 2ms/step - loss: 0.4417 - accuracy: 0.8468 - val_loss: 0.4337 - val_accuracy: 0.8502\n",
      "Epoch 5/20\n",
      "1688/1688 [==============================] - 4s 2ms/step - loss: 0.4314 - accuracy: 0.8496 - val_loss: 0.4281 - val_accuracy: 0.8503\n",
      "Epoch 6/20\n",
      "1688/1688 [==============================] - 4s 3ms/step - loss: 0.4248 - accuracy: 0.8531 - val_loss: 0.4315 - val_accuracy: 0.8493\n",
      "Epoch 7/20\n",
      "1688/1688 [==============================] - 4s 2ms/step - loss: 0.4194 - accuracy: 0.8544 - val_loss: 0.4413 - val_accuracy: 0.8408\n",
      "Epoch 8/20\n",
      "1688/1688 [==============================] - 4s 2ms/step - loss: 0.4154 - accuracy: 0.8552 - val_loss: 0.4576 - val_accuracy: 0.8292\n",
      "Epoch 9/20\n",
      "1688/1688 [==============================] - 4s 2ms/step - loss: 0.4105 - accuracy: 0.8579 - val_loss: 0.4315 - val_accuracy: 0.8458\n",
      "Epoch 10/20\n",
      "1688/1688 [==============================] - 4s 3ms/step - loss: 0.4089 - accuracy: 0.8575 - val_loss: 0.4119 - val_accuracy: 0.8543\n",
      "Epoch 11/20\n",
      "1688/1688 [==============================] - 4s 2ms/step - loss: 0.4067 - accuracy: 0.8587 - val_loss: 0.4247 - val_accuracy: 0.8512\n",
      "Epoch 12/20\n",
      "1688/1688 [==============================] - 4s 2ms/step - loss: 0.4038 - accuracy: 0.8602 - val_loss: 0.4520 - val_accuracy: 0.8407\n",
      "Epoch 13/20\n",
      "1688/1688 [==============================] - 4s 2ms/step - loss: 0.4026 - accuracy: 0.8594 - val_loss: 0.4120 - val_accuracy: 0.8573\n",
      "Epoch 14/20\n",
      "1688/1688 [==============================] - 4s 2ms/step - loss: 0.3993 - accuracy: 0.8605 - val_loss: 0.4406 - val_accuracy: 0.8443\n",
      "Epoch 15/20\n",
      "1688/1688 [==============================] - 4s 2ms/step - loss: 0.3976 - accuracy: 0.8617 - val_loss: 0.4129 - val_accuracy: 0.8575\n",
      "Epoch 16/20\n",
      "1688/1688 [==============================] - 4s 2ms/step - loss: 0.3953 - accuracy: 0.8627 - val_loss: 0.4597 - val_accuracy: 0.8310\n",
      "Epoch 17/20\n",
      "1688/1688 [==============================] - 4s 2ms/step - loss: 0.3940 - accuracy: 0.8625 - val_loss: 0.4171 - val_accuracy: 0.8547\n",
      "Epoch 18/20\n",
      "1688/1688 [==============================] - 4s 2ms/step - loss: 0.3927 - accuracy: 0.8635 - val_loss: 0.4189 - val_accuracy: 0.8525\n",
      "Epoch 19/20\n",
      "1688/1688 [==============================] - 4s 2ms/step - loss: 0.3920 - accuracy: 0.8618 - val_loss: 0.4352 - val_accuracy: 0.8437\n",
      "Epoch 20/20\n",
      "1688/1688 [==============================] - 4s 2ms/step - loss: 0.3904 - accuracy: 0.8638 - val_loss: 0.4179 - val_accuracy: 0.8502\n"
     ]
    },
    {
     "data": {
      "text/plain": "<keras.callbacks.History at 0x1ee33b19f60>"
     },
     "execution_count": 149,
     "metadata": {},
     "output_type": "execute_result"
    }
   ],
   "source": [
    "checkpoint_cb = keras.callbacks.ModelCheckpoint(\n",
    "    \"my_keras_model.h5\", save_best_only=True)\n",
    "model.fit(X_train, y_train, epochs=20, validation_split=.1, callbacks=[checkpoint_cb, tensorboard_cb])"
   ],
   "metadata": {
    "collapsed": false,
    "pycharm": {
     "name": "#%%\n"
    }
   }
  },
  {
   "cell_type": "code",
   "execution_count": 150,
   "outputs": [
    {
     "name": "stdout",
     "output_type": "stream",
     "text": [
      "Prediction: pulower\n",
      "Confidence: 0.80010074\n",
      "Truth: pulower\n"
     ]
    },
    {
     "data": {
      "text/plain": "<Figure size 432x288 with 1 Axes>",
      "image/png": "[encoded data removed]"
     },
     "metadata": {
      "needs_background": "light"
     },
     "output_type": "display_data"
    }
   ],
   "source": [
    "image_index = np.random.randint(len(X_test))\n",
    "image = np.array([X_test[image_index]])\n",
    "confidences = model.predict(image)\n",
    "confidence = np.max(confidences[0])\n",
    "prediction = np.argmax(confidences[0])\n",
    "print(\"Prediction:\", class_names[prediction])\n",
    "print(\"Confidence:\", confidence)\n",
    "print(\"Truth:\", class_names[y_test[image_index]])\n",
    "plt.imshow(image[0], cmap=\"binary\")\n",
    "plt.axis('off')\n",
    "plt.show()"
   ],
   "metadata": {
    "collapsed": false,
    "pycharm": {
     "name": "#%%\n"
    }
   }
  },
  {
   "cell_type": "markdown",
   "source": [
    "Zapisz model w pliku fashion_clf.h5:\n"
   ],
   "metadata": {
    "collapsed": false
   }
  },
  {
   "cell_type": "code",
   "execution_count": 151,
   "outputs": [],
   "source": [
    "model.save('fashion_clf.h5')"
   ],
   "metadata": {
    "collapsed": false,
    "pycharm": {
     "name": "#%%\n"
    }
   }
  },
  {
   "cell_type": "markdown",
   "source": [
    "Pobierz zbiór danych California Housing z pakietu scikit-learn:\n"
   ],
   "metadata": {
    "collapsed": false
   }
  },
  {
   "cell_type": "code",
   "execution_count": 200,
   "outputs": [],
   "source": [
    "from sklearn.datasets import fetch_california_housing\n",
    "from sklearn.model_selection import train_test_split\n",
    "from sklearn.preprocessing import StandardScaler\n",
    "\n",
    "housing = fetch_california_housing()"
   ],
   "metadata": {
    "collapsed": false,
    "pycharm": {
     "name": "#%%\n"
    }
   }
  },
  {
   "cell_type": "code",
   "execution_count": 199,
   "outputs": [],
   "source": [
    "X_train_full, X_test, y_train_full, y_test = train_test_split(housing.data, housing.target, random_state=42)\n",
    "X_train, X_valid, y_train, y_valid = train_test_split(X_train_full, y_train_full, random_state=42, shuffle=True)"
   ],
   "metadata": {
    "collapsed": false,
    "pycharm": {
     "name": "#%%\n"
    }
   }
  },
  {
   "cell_type": "markdown",
   "source": [
    "Przeskaluj wszystkie zbiory cech, kalibrując funkcję normalizacyjną do zbioru uczącego:\n"
   ],
   "metadata": {
    "collapsed": false
   }
  },
  {
   "cell_type": "code",
   "execution_count": 224,
   "outputs": [],
   "source": [
    "scaler = StandardScaler()\n",
    "X_train = scaler.fit_transform(X_train)\n",
    "X_valid = scaler.transform(X_valid)\n",
    "X_test = scaler.transform(X_test)\n"
   ],
   "metadata": {
    "collapsed": false,
    "pycharm": {
     "name": "#%%\n"
    }
   }
  },
  {
   "cell_type": "code",
   "execution_count": 225,
   "outputs": [],
   "source": [
    "reg_housing_1 = keras.models.Sequential()\n",
    "reg_housing_1.add(keras.layers.Dense(30, input_shape=[X_train.shape[1]], activation='relu'))\n",
    "reg_housing_1.add(keras.layers.Dense(1))"
   ],
   "metadata": {
    "collapsed": false,
    "pycharm": {
     "name": "#%%\n"
    }
   }
  },
  {
   "cell_type": "markdown",
   "source": [
    "Skompiluj go używając błędu średniokwadratwego jako funkcji straty i SGD jako optymalizatora."
   ],
   "metadata": {
    "collapsed": false,
    "pycharm": {
     "name": "#%% md\n"
    }
   }
  },
  {
   "cell_type": "code",
   "execution_count": 226,
   "outputs": [],
   "source": [
    "reg_housing_1.compile(loss='mean_squared_error', optimizer='sgd')"
   ],
   "metadata": {
    "collapsed": false,
    "pycharm": {
     "name": "#%%\n"
    }
   }
  },
  {
   "cell_type": "markdown",
   "source": [
    "Przygotuj callback early stopping o cierpliwości równej 5 epok, minimalnej wartości poprawy\n",
    "wynoszącej 0.01 i włączając wyświetlanie komunikatów o przerwaniu uczenia na ekranie"
   ],
   "metadata": {
    "collapsed": false
   }
  },
  {
   "cell_type": "code",
   "execution_count": 227,
   "outputs": [],
   "source": [
    "es = tf.keras.callbacks.EarlyStopping(patience=5,\n",
    "                                      min_delta=0.01,\n",
    "                                      verbose=1)"
   ],
   "metadata": {
    "collapsed": false,
    "pycharm": {
     "name": "#%%\n"
    }
   }
  },
  {
   "cell_type": "markdown",
   "source": [],
   "metadata": {
    "collapsed": false,
    "pycharm": {
     "name": "#%% md\n"
    }
   }
  },
  {
   "cell_type": "markdown",
   "source": [
    "Podobnie jak w poprzednim ćwiczeniu, przygotuj callback Tensorboard, tak aby zbierał logi do\n",
    "katalogu housing_logs."
   ],
   "metadata": {
    "collapsed": false
   }
  },
  {
   "cell_type": "code",
   "execution_count": 228,
   "outputs": [],
   "source": [
    "root_logdir = os.path.join(os.curdir, \"housing_logs\")\n",
    "\n",
    "\n",
    "def get_run_logdir():\n",
    "    import time\n",
    "    run_id = time.strftime(\"run_%Y_%m_%d-%H_%M_%S\")\n",
    "    return os.path.join(root_logdir, run_id)\n",
    "\n",
    "\n",
    "run_logdir = get_run_logdir()\n",
    "tensorboard = tf.keras.callbacks.TensorBoard(run_logdir)"
   ],
   "metadata": {
    "collapsed": false,
    "pycharm": {
     "name": "#%%\n"
    }
   }
  },
  {
   "cell_type": "code",
   "execution_count": 216,
   "outputs": [
    {
     "name": "stdout",
     "output_type": "stream",
     "text": [
      "Model: \"sequential_22\"\n",
      "_________________________________________________________________\n",
      " Layer (type)                Output Shape              Param #   \n",
      "=================================================================\n",
      " dense_44 (Dense)            (None, 30)                270       \n",
      "                                                                 \n",
      " dense_45 (Dense)            (None, 1)                 31        \n",
      "                                                                 \n",
      "=================================================================\n",
      "Total params: 301\n",
      "Trainable params: 301\n",
      "Non-trainable params: 0\n",
      "_________________________________________________________________\n"
     ]
    }
   ],
   "source": [
    "reg_housing_1.summary()"
   ],
   "metadata": {
    "collapsed": false,
    "pycharm": {
     "name": "#%%\n"
    }
   }
  },
  {
   "cell_type": "markdown",
   "source": [
    "Skompiluj go używając błędu średniokwadratwego jako funkcji straty i SGD jako optymalizatora."
   ],
   "metadata": {
    "collapsed": false,
    "pycharm": {
     "name": "#%% md\n"
    }
   }
  },
  {
   "cell_type": "code",
   "execution_count": 229,
   "outputs": [
    {
     "name": "stdout",
     "output_type": "stream",
     "text": [
      "Epoch 1/20\n",
      "363/363 [==============================] - 1s 2ms/step - loss: 0.7856 - val_loss: 15.8957\n",
      "Epoch 2/20\n",
      "363/363 [==============================] - 1s 1ms/step - loss: 0.5486 - val_loss: 5.8224\n",
      "Epoch 3/20\n",
      "363/363 [==============================] - 1s 1ms/step - loss: 0.4637 - val_loss: 0.3910\n",
      "Epoch 4/20\n",
      "363/363 [==============================] - 1s 1ms/step - loss: 0.4383 - val_loss: 0.3881\n",
      "Epoch 5/20\n",
      "363/363 [==============================] - 1s 1ms/step - loss: 0.4095 - val_loss: 0.3851\n",
      "Epoch 6/20\n",
      "363/363 [==============================] - 1s 1ms/step - loss: 0.4029 - val_loss: 0.3774\n",
      "Epoch 7/20\n",
      "363/363 [==============================] - 1s 2ms/step - loss: 0.3943 - val_loss: 0.3851\n",
      "Epoch 8/20\n",
      "363/363 [==============================] - 1s 2ms/step - loss: 0.3914 - val_loss: 0.3848\n",
      "Epoch 9/20\n",
      "363/363 [==============================] - 1s 2ms/step - loss: 0.3993 - val_loss: 0.3952\n",
      "Epoch 10/20\n",
      "363/363 [==============================] - 1s 2ms/step - loss: 0.3892 - val_loss: 0.4041\n",
      "Epoch 11/20\n",
      "363/363 [==============================] - 1s 2ms/step - loss: 0.3849 - val_loss: 0.3968\n",
      "Epoch 11: early stopping\n"
     ]
    }
   ],
   "source": [
    "history = reg_housing_1.fit(X_train, y_train, epochs=20, validation_data=(X_valid, y_valid),\n",
    "                            callbacks=[es, tensorboard])\n"
   ],
   "metadata": {
    "collapsed": false,
    "pycharm": {
     "name": "#%%\n"
    }
   }
  },
  {
   "cell_type": "code",
   "execution_count": 230,
   "outputs": [
    {
     "data": {
      "text/plain": "<Figure size 576x360 with 1 Axes>",
      "image/png": "[encoded data removed]"
     },
     "metadata": {
      "needs_background": "light"
     },
     "output_type": "display_data"
    }
   ],
   "source": [
    "import pandas as pd\n",
    "\n",
    "pd.DataFrame(history.history).plot(figsize=(8, 5))\n",
    "plt.grid(True)\n",
    "plt.show()"
   ],
   "metadata": {
    "collapsed": false,
    "pycharm": {
     "name": "#%%\n"
    }
   }
  },
  {
   "cell_type": "code",
   "execution_count": 231,
   "outputs": [],
   "source": [
    "model.save(\"reg_housing_1.h5\")"
   ],
   "metadata": {
    "collapsed": false,
    "pycharm": {
     "name": "#%%\n"
    }
   }
  },
  {
   "cell_type": "code",
   "execution_count": 232,
   "outputs": [
    {
     "name": "stdout",
     "output_type": "stream",
     "text": [
      "Epoch 1/150\n",
      "182/182 [==============================] - 2s 4ms/step - loss: 1.3470 - mae: 1.2434 - val_loss: 0.9119 - val_mae: 0.8146\n",
      "Epoch 2/150\n",
      "182/182 [==============================] - 0s 3ms/step - loss: 0.8140 - mae: 0.7223 - val_loss: 0.7677 - val_mae: 0.6821\n",
      "Epoch 3/150\n",
      "182/182 [==============================] - 1s 3ms/step - loss: 0.6747 - mae: 0.5960 - val_loss: 0.6030 - val_mae: 0.5312\n",
      "Epoch 4/150\n",
      "182/182 [==============================] - 0s 3ms/step - loss: 0.6081 - mae: 0.5424 - val_loss: 0.5038 - val_mae: 0.4441\n",
      "Epoch 5/150\n",
      "182/182 [==============================] - 1s 3ms/step - loss: 0.5723 - mae: 0.5175 - val_loss: 0.5138 - val_mae: 0.4637\n",
      "Epoch 6/150\n",
      "182/182 [==============================] - 1s 3ms/step - loss: 0.5294 - mae: 0.4834 - val_loss: 0.4979 - val_mae: 0.4561\n",
      "Epoch 7/150\n",
      "182/182 [==============================] - 1s 3ms/step - loss: 0.5040 - mae: 0.4657 - val_loss: 0.5395 - val_mae: 0.5039\n",
      "Epoch 8/150\n",
      "182/182 [==============================] - 1s 3ms/step - loss: 0.4952 - mae: 0.4623 - val_loss: 0.4848 - val_mae: 0.4540\n",
      "Epoch 9/150\n",
      "182/182 [==============================] - 0s 3ms/step - loss: 0.4850 - mae: 0.4558 - val_loss: 0.4342 - val_mae: 0.4063\n",
      "Epoch 10/150\n",
      "182/182 [==============================] - 0s 3ms/step - loss: 0.4719 - mae: 0.4451 - val_loss: 0.4423 - val_mae: 0.4171\n",
      "Epoch 11/150\n",
      "182/182 [==============================] - 0s 3ms/step - loss: 0.4702 - mae: 0.4459 - val_loss: 0.4054 - val_mae: 0.3817\n",
      "Epoch 12/150\n",
      "182/182 [==============================] - 0s 3ms/step - loss: 0.4624 - mae: 0.4392 - val_loss: 0.4131 - val_mae: 0.3903\n",
      "Epoch 13/150\n",
      "182/182 [==============================] - 1s 3ms/step - loss: 0.4575 - mae: 0.4353 - val_loss: 0.4348 - val_mae: 0.4133\n",
      "Epoch 14/150\n",
      "182/182 [==============================] - 0s 3ms/step - loss: 0.4584 - mae: 0.4370 - val_loss: 0.4414 - val_mae: 0.4204\n",
      "Epoch 15/150\n",
      "182/182 [==============================] - 0s 3ms/step - loss: 0.4538 - mae: 0.4330 - val_loss: 0.4078 - val_mae: 0.3873\n",
      "Epoch 16/150\n",
      "182/182 [==============================] - 0s 3ms/step - loss: 0.4492 - mae: 0.4288 - val_loss: 0.4164 - val_mae: 0.3961\n",
      "Epoch 17/150\n",
      "182/182 [==============================] - 1s 3ms/step - loss: 0.4491 - mae: 0.4293 - val_loss: 0.3961 - val_mae: 0.3764\n",
      "Epoch 18/150\n",
      "182/182 [==============================] - 1s 3ms/step - loss: 0.4454 - mae: 0.4256 - val_loss: 0.4424 - val_mae: 0.4229\n",
      "Epoch 19/150\n",
      "182/182 [==============================] - 1s 3ms/step - loss: 0.4484 - mae: 0.4290 - val_loss: 0.4018 - val_mae: 0.3828\n",
      "Epoch 20/150\n",
      "182/182 [==============================] - 1s 3ms/step - loss: 0.4444 - mae: 0.4254 - val_loss: 0.4043 - val_mae: 0.3853\n",
      "Epoch 21/150\n",
      "182/182 [==============================] - 0s 3ms/step - loss: 0.4416 - mae: 0.4227 - val_loss: 0.4066 - val_mae: 0.3874\n",
      "Epoch 22/150\n",
      "182/182 [==============================] - 1s 3ms/step - loss: 0.4437 - mae: 0.4249 - val_loss: 0.4361 - val_mae: 0.4173\n",
      "Epoch 23/150\n",
      "182/182 [==============================] - 1s 3ms/step - loss: 0.4444 - mae: 0.4257 - val_loss: 0.4249 - val_mae: 0.4064\n",
      "Epoch 24/150\n",
      "182/182 [==============================] - 1s 4ms/step - loss: 0.4437 - mae: 0.4252 - val_loss: 0.4009 - val_mae: 0.3822\n",
      "Epoch 25/150\n",
      "182/182 [==============================] - 1s 3ms/step - loss: 0.4363 - mae: 0.4175 - val_loss: 0.4053 - val_mae: 0.3867\n",
      "Epoch 26/150\n",
      "182/182 [==============================] - 1s 3ms/step - loss: 0.4418 - mae: 0.4231 - val_loss: 0.3973 - val_mae: 0.3784\n",
      "Epoch 27/150\n",
      "182/182 [==============================] - 1s 3ms/step - loss: 0.4369 - mae: 0.4184 - val_loss: 0.4347 - val_mae: 0.4168\n",
      "Epoch 28/150\n",
      "182/182 [==============================] - 1s 3ms/step - loss: 0.4366 - mae: 0.4185 - val_loss: 0.3801 - val_mae: 0.3614\n",
      "Epoch 29/150\n",
      "182/182 [==============================] - 1s 3ms/step - loss: 0.4378 - mae: 0.4193 - val_loss: 0.3891 - val_mae: 0.3704\n",
      "Epoch 30/150\n",
      "182/182 [==============================] - 1s 3ms/step - loss: 0.4421 - mae: 0.4237 - val_loss: 0.3999 - val_mae: 0.3811\n",
      "Epoch 31/150\n",
      "182/182 [==============================] - 1s 3ms/step - loss: 0.4392 - mae: 0.4208 - val_loss: 0.4255 - val_mae: 0.4071\n",
      "Epoch 32/150\n",
      "182/182 [==============================] - 1s 3ms/step - loss: 0.4386 - mae: 0.4204 - val_loss: 0.4280 - val_mae: 0.4095\n",
      "Epoch 33/150\n",
      "182/182 [==============================] - 0s 3ms/step - loss: 0.4358 - mae: 0.4172 - val_loss: 0.3960 - val_mae: 0.3773\n",
      "Epoch 34/150\n",
      "182/182 [==============================] - 1s 3ms/step - loss: 0.4398 - mae: 0.4214 - val_loss: 0.3868 - val_mae: 0.3681\n",
      "Epoch 35/150\n",
      "182/182 [==============================] - 1s 5ms/step - loss: 0.4405 - mae: 0.4221 - val_loss: 0.4075 - val_mae: 0.3888\n",
      "Epoch 36/150\n",
      "182/182 [==============================] - 1s 5ms/step - loss: 0.4418 - mae: 0.4233 - val_loss: 0.3989 - val_mae: 0.3804\n",
      "Epoch 37/150\n",
      "182/182 [==============================] - 1s 5ms/step - loss: 0.4407 - mae: 0.4224 - val_loss: 0.4317 - val_mae: 0.4134\n",
      "Epoch 38/150\n",
      "182/182 [==============================] - 1s 3ms/step - loss: 0.4374 - mae: 0.4189 - val_loss: 0.4279 - val_mae: 0.4096\n",
      "Epoch 39/150\n",
      "182/182 [==============================] - 1s 3ms/step - loss: 0.4328 - mae: 0.4144 - val_loss: 0.4204 - val_mae: 0.4020\n",
      "Epoch 40/150\n",
      "182/182 [==============================] - 1s 4ms/step - loss: 0.4395 - mae: 0.4211 - val_loss: 0.3889 - val_mae: 0.3709\n",
      "Epoch 41/150\n",
      "182/182 [==============================] - 1s 3ms/step - loss: 0.4403 - mae: 0.4224 - val_loss: 0.4257 - val_mae: 0.4077\n",
      "Epoch 42/150\n",
      "182/182 [==============================] - 0s 3ms/step - loss: 0.4392 - mae: 0.4210 - val_loss: 0.3809 - val_mae: 0.3624\n",
      "Epoch 43/150\n",
      "182/182 [==============================] - 0s 2ms/step - loss: 0.4414 - mae: 0.4229 - val_loss: 0.4012 - val_mae: 0.3826\n",
      "Epoch 44/150\n",
      "182/182 [==============================] - 0s 3ms/step - loss: 0.4354 - mae: 0.4168 - val_loss: 0.4269 - val_mae: 0.4084\n",
      "Epoch 45/150\n",
      "182/182 [==============================] - 0s 2ms/step - loss: 0.4383 - mae: 0.4198 - val_loss: 0.4389 - val_mae: 0.4206\n",
      "Epoch 46/150\n",
      "182/182 [==============================] - 0s 2ms/step - loss: 0.4394 - mae: 0.4214 - val_loss: 0.3951 - val_mae: 0.3768\n",
      "Epoch 47/150\n",
      "182/182 [==============================] - 0s 2ms/step - loss: 0.4369 - mae: 0.4186 - val_loss: 0.3814 - val_mae: 0.3634\n",
      "Epoch 48/150\n",
      "182/182 [==============================] - 0s 2ms/step - loss: 0.4363 - mae: 0.4181 - val_loss: 0.3901 - val_mae: 0.3719\n",
      "Epoch 49/150\n",
      "182/182 [==============================] - 0s 2ms/step - loss: 0.4344 - mae: 0.4164 - val_loss: 0.4191 - val_mae: 0.4012\n",
      "Epoch 50/150\n",
      "182/182 [==============================] - 0s 2ms/step - loss: 0.4407 - mae: 0.4225 - val_loss: 0.4280 - val_mae: 0.4102\n",
      "Epoch 51/150\n",
      "182/182 [==============================] - 0s 3ms/step - loss: 0.4403 - mae: 0.4222 - val_loss: 0.3884 - val_mae: 0.3701\n",
      "Epoch 52/150\n",
      "182/182 [==============================] - 0s 3ms/step - loss: 0.4390 - mae: 0.4208 - val_loss: 0.4191 - val_mae: 0.4008\n",
      "Epoch 53/150\n",
      "182/182 [==============================] - 1s 3ms/step - loss: 0.4411 - mae: 0.4229 - val_loss: 0.3997 - val_mae: 0.3815\n",
      "Epoch 54/150\n",
      "182/182 [==============================] - 1s 3ms/step - loss: 0.4401 - mae: 0.4219 - val_loss: 0.4016 - val_mae: 0.3836\n",
      "Epoch 55/150\n",
      "182/182 [==============================] - 1s 3ms/step - loss: 0.4341 - mae: 0.4162 - val_loss: 0.4069 - val_mae: 0.3887\n",
      "Epoch 56/150\n",
      "182/182 [==============================] - 1s 3ms/step - loss: 0.4417 - mae: 0.4236 - val_loss: 0.4285 - val_mae: 0.4105\n",
      "Epoch 57/150\n",
      "182/182 [==============================] - 1s 3ms/step - loss: 0.4346 - mae: 0.4164 - val_loss: 0.4236 - val_mae: 0.4053\n",
      "Epoch 58/150\n",
      "182/182 [==============================] - 1s 3ms/step - loss: 0.4359 - mae: 0.4177 - val_loss: 0.3891 - val_mae: 0.3706\n",
      "Epoch 59/150\n",
      "182/182 [==============================] - 0s 2ms/step - loss: 0.4379 - mae: 0.4197 - val_loss: 0.4135 - val_mae: 0.3955\n",
      "Epoch 60/150\n",
      "182/182 [==============================] - 0s 2ms/step - loss: 0.4355 - mae: 0.4174 - val_loss: 0.4032 - val_mae: 0.3850\n",
      "Epoch 61/150\n",
      "182/182 [==============================] - 0s 2ms/step - loss: 0.4344 - mae: 0.4160 - val_loss: 0.4063 - val_mae: 0.3881\n",
      "Epoch 62/150\n",
      "182/182 [==============================] - 0s 3ms/step - loss: 0.4367 - mae: 0.4185 - val_loss: 0.4005 - val_mae: 0.3819\n",
      "Epoch 63/150\n",
      "182/182 [==============================] - 0s 3ms/step - loss: 0.4376 - mae: 0.4192 - val_loss: 0.3965 - val_mae: 0.3782\n",
      "Epoch 64/150\n",
      "182/182 [==============================] - 0s 3ms/step - loss: 0.4357 - mae: 0.4171 - val_loss: 0.4075 - val_mae: 0.3888\n",
      "Epoch 65/150\n",
      "182/182 [==============================] - 0s 3ms/step - loss: 0.4369 - mae: 0.4182 - val_loss: 0.4198 - val_mae: 0.4015\n",
      "Epoch 66/150\n",
      "182/182 [==============================] - 0s 3ms/step - loss: 0.4362 - mae: 0.4178 - val_loss: 0.4342 - val_mae: 0.4156\n",
      "Epoch 67/150\n",
      "182/182 [==============================] - 0s 3ms/step - loss: 0.4354 - mae: 0.4167 - val_loss: 0.4069 - val_mae: 0.3880\n",
      "Epoch 68/150\n",
      "182/182 [==============================] - 0s 3ms/step - loss: 0.4294 - mae: 0.4107 - val_loss: 0.3881 - val_mae: 0.3694\n",
      "Epoch 69/150\n",
      "182/182 [==============================] - 1s 3ms/step - loss: 0.4394 - mae: 0.4206 - val_loss: 0.4042 - val_mae: 0.3858\n",
      "Epoch 70/150\n",
      "182/182 [==============================] - 1s 3ms/step - loss: 0.4363 - mae: 0.4176 - val_loss: 0.3869 - val_mae: 0.3679\n",
      "Epoch 71/150\n",
      "182/182 [==============================] - 1s 3ms/step - loss: 0.4342 - mae: 0.4155 - val_loss: 0.4001 - val_mae: 0.3817\n",
      "Epoch 72/150\n",
      "182/182 [==============================] - 1s 3ms/step - loss: 0.4320 - mae: 0.4135 - val_loss: 0.4222 - val_mae: 0.4038\n",
      "Epoch 73/150\n",
      "182/182 [==============================] - 1s 3ms/step - loss: 0.4352 - mae: 0.4169 - val_loss: 0.4003 - val_mae: 0.3823\n",
      "Epoch 74/150\n",
      "182/182 [==============================] - 1s 3ms/step - loss: 0.4386 - mae: 0.4204 - val_loss: 0.4088 - val_mae: 0.3906\n",
      "Epoch 75/150\n",
      "182/182 [==============================] - 0s 3ms/step - loss: 0.4381 - mae: 0.4199 - val_loss: 0.3803 - val_mae: 0.3623\n",
      "Epoch 76/150\n",
      "182/182 [==============================] - 0s 2ms/step - loss: 0.4374 - mae: 0.4191 - val_loss: 0.3949 - val_mae: 0.3766\n",
      "Epoch 77/150\n",
      "182/182 [==============================] - 0s 2ms/step - loss: 0.4360 - mae: 0.4174 - val_loss: 0.4393 - val_mae: 0.4205\n",
      "Epoch 78/150\n",
      "182/182 [==============================] - 0s 2ms/step - loss: 0.4372 - mae: 0.4183 - val_loss: 0.4290 - val_mae: 0.4102\n",
      "Epoch 79/150\n",
      "182/182 [==============================] - 0s 2ms/step - loss: 0.4383 - mae: 0.4195 - val_loss: 0.3974 - val_mae: 0.3785\n",
      "Epoch 80/150\n",
      "182/182 [==============================] - 0s 3ms/step - loss: 0.4377 - mae: 0.4190 - val_loss: 0.4220 - val_mae: 0.4033\n",
      "Epoch 81/150\n",
      "182/182 [==============================] - 0s 3ms/step - loss: 0.4388 - mae: 0.4204 - val_loss: 0.4617 - val_mae: 0.4433\n",
      "Epoch 82/150\n",
      "182/182 [==============================] - 0s 2ms/step - loss: 0.4322 - mae: 0.4139 - val_loss: 0.4337 - val_mae: 0.4155\n",
      "Epoch 83/150\n",
      "182/182 [==============================] - 0s 3ms/step - loss: 0.4387 - mae: 0.4204 - val_loss: 0.4347 - val_mae: 0.4163\n",
      "Epoch 84/150\n",
      "182/182 [==============================] - 0s 2ms/step - loss: 0.4393 - mae: 0.4212 - val_loss: 0.4010 - val_mae: 0.3829\n",
      "Epoch 85/150\n",
      "182/182 [==============================] - 0s 3ms/step - loss: 0.4391 - mae: 0.4209 - val_loss: 0.4353 - val_mae: 0.4168\n",
      "Epoch 86/150\n",
      "182/182 [==============================] - 1s 3ms/step - loss: 0.4329 - mae: 0.4144 - val_loss: 0.4184 - val_mae: 0.4000\n",
      "Epoch 87/150\n",
      "182/182 [==============================] - 1s 3ms/step - loss: 0.4393 - mae: 0.4210 - val_loss: 0.3914 - val_mae: 0.3732\n",
      "Epoch 88/150\n",
      "182/182 [==============================] - 1s 3ms/step - loss: 0.4338 - mae: 0.4156 - val_loss: 0.4391 - val_mae: 0.4210\n",
      "Epoch 89/150\n",
      "182/182 [==============================] - 1s 3ms/step - loss: 0.4338 - mae: 0.4156 - val_loss: 0.4245 - val_mae: 0.4067\n",
      "Epoch 90/150\n",
      "182/182 [==============================] - 1s 3ms/step - loss: 0.4384 - mae: 0.4204 - val_loss: 0.4370 - val_mae: 0.4188\n",
      "Epoch 91/150\n",
      "182/182 [==============================] - 1s 3ms/step - loss: 0.4397 - mae: 0.4215 - val_loss: 0.4100 - val_mae: 0.3917\n",
      "Epoch 92/150\n",
      "182/182 [==============================] - 0s 3ms/step - loss: 0.4378 - mae: 0.4196 - val_loss: 0.4169 - val_mae: 0.3987\n",
      "Epoch 93/150\n",
      "182/182 [==============================] - 0s 3ms/step - loss: 0.4417 - mae: 0.4235 - val_loss: 0.4363 - val_mae: 0.4181\n",
      "Epoch 94/150\n",
      "182/182 [==============================] - 0s 2ms/step - loss: 0.4327 - mae: 0.4146 - val_loss: 0.3991 - val_mae: 0.3810\n",
      "Epoch 95/150\n",
      "182/182 [==============================] - 0s 2ms/step - loss: 0.4374 - mae: 0.4191 - val_loss: 0.4071 - val_mae: 0.3886\n",
      "Epoch 96/150\n",
      "182/182 [==============================] - 0s 3ms/step - loss: 0.4384 - mae: 0.4200 - val_loss: 0.4475 - val_mae: 0.4293\n",
      "Epoch 97/150\n",
      "182/182 [==============================] - 0s 3ms/step - loss: 0.4377 - mae: 0.4194 - val_loss: 0.4560 - val_mae: 0.4378\n",
      "Epoch 98/150\n",
      "182/182 [==============================] - 0s 3ms/step - loss: 0.4341 - mae: 0.4161 - val_loss: 0.4616 - val_mae: 0.4437\n",
      "Epoch 99/150\n",
      "182/182 [==============================] - 0s 3ms/step - loss: 0.4307 - mae: 0.4127 - val_loss: 0.5210 - val_mae: 0.5035\n",
      "Epoch 100/150\n",
      "182/182 [==============================] - 1s 3ms/step - loss: 0.4355 - mae: 0.4175 - val_loss: 0.4417 - val_mae: 0.4236\n",
      "Epoch 101/150\n",
      "182/182 [==============================] - 0s 3ms/step - loss: 0.4308 - mae: 0.4127 - val_loss: 0.4946 - val_mae: 0.4765\n",
      "Epoch 102/150\n",
      "182/182 [==============================] - 0s 3ms/step - loss: 0.4368 - mae: 0.4185 - val_loss: 0.4282 - val_mae: 0.4101\n",
      "Epoch 103/150\n",
      "182/182 [==============================] - 1s 3ms/step - loss: 0.4387 - mae: 0.4202 - val_loss: 0.4500 - val_mae: 0.4315\n",
      "Epoch 104/150\n",
      "182/182 [==============================] - 1s 3ms/step - loss: 0.4373 - mae: 0.4189 - val_loss: 0.4688 - val_mae: 0.4505\n",
      "Epoch 105/150\n",
      "182/182 [==============================] - 0s 3ms/step - loss: 0.4356 - mae: 0.4172 - val_loss: 0.4489 - val_mae: 0.4307\n",
      "Epoch 106/150\n",
      "182/182 [==============================] - 0s 3ms/step - loss: 0.4393 - mae: 0.4208 - val_loss: 0.4091 - val_mae: 0.3904\n",
      "Epoch 107/150\n",
      "182/182 [==============================] - 1s 3ms/step - loss: 0.4366 - mae: 0.4183 - val_loss: 0.4640 - val_mae: 0.4459\n",
      "Epoch 108/150\n",
      "182/182 [==============================] - 1s 3ms/step - loss: 0.4372 - mae: 0.4189 - val_loss: 0.3910 - val_mae: 0.3729\n",
      "Epoch 109/150\n",
      "182/182 [==============================] - 0s 3ms/step - loss: 0.4364 - mae: 0.4182 - val_loss: 0.4184 - val_mae: 0.4001\n",
      "Epoch 110/150\n",
      "182/182 [==============================] - 0s 2ms/step - loss: 0.4360 - mae: 0.4176 - val_loss: 0.4591 - val_mae: 0.4406\n",
      "Epoch 111/150\n",
      "182/182 [==============================] - 0s 2ms/step - loss: 0.4384 - mae: 0.4200 - val_loss: 0.4081 - val_mae: 0.3896\n",
      "Epoch 112/150\n",
      "182/182 [==============================] - 0s 2ms/step - loss: 0.4329 - mae: 0.4143 - val_loss: 0.4444 - val_mae: 0.4261\n",
      "Epoch 113/150\n",
      "182/182 [==============================] - 0s 3ms/step - loss: 0.4350 - mae: 0.4165 - val_loss: 0.4115 - val_mae: 0.3930\n",
      "Epoch 114/150\n",
      "182/182 [==============================] - 0s 3ms/step - loss: 0.4369 - mae: 0.4186 - val_loss: 0.3853 - val_mae: 0.3668\n",
      "Epoch 115/150\n",
      "182/182 [==============================] - 0s 3ms/step - loss: 0.4352 - mae: 0.4170 - val_loss: 0.4180 - val_mae: 0.4000\n",
      "Epoch 116/150\n",
      "182/182 [==============================] - 0s 3ms/step - loss: 0.4308 - mae: 0.4126 - val_loss: 0.4032 - val_mae: 0.3850\n",
      "Epoch 117/150\n",
      "182/182 [==============================] - 0s 3ms/step - loss: 0.4375 - mae: 0.4193 - val_loss: 0.4246 - val_mae: 0.4066\n",
      "Epoch 118/150\n",
      "182/182 [==============================] - 0s 2ms/step - loss: 0.4384 - mae: 0.4203 - val_loss: 0.4608 - val_mae: 0.4429\n",
      "Epoch 119/150\n",
      "182/182 [==============================] - 0s 3ms/step - loss: 0.4356 - mae: 0.4176 - val_loss: 0.4198 - val_mae: 0.4015\n",
      "Epoch 120/150\n",
      "182/182 [==============================] - 1s 3ms/step - loss: 0.4349 - mae: 0.4167 - val_loss: 0.3950 - val_mae: 0.3770\n",
      "Epoch 121/150\n",
      "182/182 [==============================] - 1s 3ms/step - loss: 0.4417 - mae: 0.4236 - val_loss: 0.4003 - val_mae: 0.3819\n",
      "Epoch 122/150\n",
      "182/182 [==============================] - 1s 3ms/step - loss: 0.4306 - mae: 0.4123 - val_loss: 0.4307 - val_mae: 0.4125\n",
      "Epoch 123/150\n",
      "182/182 [==============================] - 1s 3ms/step - loss: 0.4367 - mae: 0.4185 - val_loss: 0.3818 - val_mae: 0.3635\n",
      "Epoch 124/150\n",
      "182/182 [==============================] - 1s 3ms/step - loss: 0.4299 - mae: 0.4116 - val_loss: 0.4016 - val_mae: 0.3835\n",
      "Epoch 125/150\n",
      "182/182 [==============================] - 1s 3ms/step - loss: 0.4332 - mae: 0.4149 - val_loss: 0.3961 - val_mae: 0.3778\n",
      "Epoch 126/150\n",
      "182/182 [==============================] - 0s 2ms/step - loss: 0.4360 - mae: 0.4179 - val_loss: 0.4189 - val_mae: 0.4010\n",
      "Epoch 127/150\n",
      "182/182 [==============================] - 0s 3ms/step - loss: 0.4383 - mae: 0.4202 - val_loss: 0.4183 - val_mae: 0.4004\n",
      "Epoch 128/150\n",
      "182/182 [==============================] - 0s 2ms/step - loss: 0.4342 - mae: 0.4162 - val_loss: 0.3823 - val_mae: 0.3643\n",
      "Epoch 129/150\n",
      "182/182 [==============================] - 0s 3ms/step - loss: 0.4346 - mae: 0.4166 - val_loss: 0.4044 - val_mae: 0.3864\n",
      "Epoch 130/150\n",
      "182/182 [==============================] - 0s 3ms/step - loss: 0.4323 - mae: 0.4141 - val_loss: 0.3886 - val_mae: 0.3703\n",
      "Epoch 131/150\n",
      "182/182 [==============================] - 0s 2ms/step - loss: 0.4328 - mae: 0.4148 - val_loss: 0.4303 - val_mae: 0.4122\n",
      "Epoch 132/150\n",
      "182/182 [==============================] - 0s 2ms/step - loss: 0.4397 - mae: 0.4216 - val_loss: 0.4412 - val_mae: 0.4230\n",
      "Epoch 133/150\n",
      "182/182 [==============================] - 0s 2ms/step - loss: 0.4393 - mae: 0.4212 - val_loss: 0.4316 - val_mae: 0.4135\n",
      "Epoch 134/150\n",
      "182/182 [==============================] - 0s 2ms/step - loss: 0.4352 - mae: 0.4171 - val_loss: 0.4176 - val_mae: 0.3994\n",
      "Epoch 135/150\n",
      "182/182 [==============================] - 0s 2ms/step - loss: 0.4322 - mae: 0.4139 - val_loss: 0.4157 - val_mae: 0.3976\n",
      "Epoch 136/150\n",
      "182/182 [==============================] - 0s 2ms/step - loss: 0.4396 - mae: 0.4213 - val_loss: 0.4200 - val_mae: 0.4019\n",
      "Epoch 137/150\n",
      "182/182 [==============================] - 1s 3ms/step - loss: 0.4343 - mae: 0.4162 - val_loss: 0.4450 - val_mae: 0.4272\n",
      "Epoch 138/150\n",
      "182/182 [==============================] - 1s 3ms/step - loss: 0.4385 - mae: 0.4206 - val_loss: 0.4263 - val_mae: 0.4081\n",
      "Epoch 139/150\n",
      "182/182 [==============================] - 1s 3ms/step - loss: 0.4368 - mae: 0.4189 - val_loss: 0.4557 - val_mae: 0.4378\n",
      "Epoch 140/150\n",
      "182/182 [==============================] - 0s 3ms/step - loss: 0.4349 - mae: 0.4169 - val_loss: 0.4040 - val_mae: 0.3858\n",
      "Epoch 141/150\n",
      "182/182 [==============================] - 1s 3ms/step - loss: 0.4355 - mae: 0.4173 - val_loss: 0.4031 - val_mae: 0.3852\n",
      "Epoch 142/150\n",
      "182/182 [==============================] - 1s 3ms/step - loss: 0.4334 - mae: 0.4153 - val_loss: 0.3959 - val_mae: 0.3779\n",
      "Epoch 143/150\n",
      "182/182 [==============================] - 0s 3ms/step - loss: 0.4392 - mae: 0.4208 - val_loss: 0.4274 - val_mae: 0.4089\n",
      "Epoch 144/150\n",
      "182/182 [==============================] - 0s 2ms/step - loss: 0.4369 - mae: 0.4187 - val_loss: 0.4633 - val_mae: 0.4452\n",
      "Epoch 145/150\n",
      "182/182 [==============================] - 0s 2ms/step - loss: 0.4345 - mae: 0.4162 - val_loss: 0.4184 - val_mae: 0.4001\n",
      "Epoch 146/150\n",
      "182/182 [==============================] - 0s 3ms/step - loss: 0.4369 - mae: 0.4189 - val_loss: 0.3962 - val_mae: 0.3778\n",
      "Epoch 147/150\n",
      "182/182 [==============================] - 0s 3ms/step - loss: 0.4325 - mae: 0.4144 - val_loss: 0.4115 - val_mae: 0.3933\n",
      "Epoch 148/150\n",
      "182/182 [==============================] - 0s 2ms/step - loss: 0.4382 - mae: 0.4200 - val_loss: 0.4107 - val_mae: 0.3929\n",
      "Epoch 149/150\n",
      "182/182 [==============================] - 0s 3ms/step - loss: 0.4349 - mae: 0.4170 - val_loss: 0.3974 - val_mae: 0.3793\n",
      "Epoch 150/150\n",
      "182/182 [==============================] - 0s 3ms/step - loss: 0.4367 - mae: 0.4186 - val_loss: 0.4029 - val_mae: 0.3845\n"
     ]
    }
   ],
   "source": [
    "model = keras.Sequential([\n",
    "    keras.layers.Dense(64, activation='relu', kernel_initializer='normal', kernel_regularizer=\"l2\",\n",
    "                       input_shape=[X_train.shape[1]]),\n",
    "    keras.layers.Dropout(0.2),\n",
    "    keras.layers.BatchNormalization(),\n",
    "\n",
    "    keras.layers.Dense(64, activation='relu', kernel_initializer='normal', kernel_regularizer=\"l2\"),\n",
    "    keras.layers.Dropout(0.2),\n",
    "    keras.layers.BatchNormalization(),\n",
    "\n",
    "    keras.layers.Dense(1)\n",
    "])\n",
    "\n",
    "model.compile(loss='mae',\n",
    "              optimizer=keras.optimizers.RMSprop(),\n",
    "              metrics=['mae'])\n",
    "\n",
    "history = model.fit(\n",
    "    X_train, y_train,\n",
    "    epochs=150,\n",
    "    batch_size=64,\n",
    "    validation_data=(X_valid, y_valid),\n",
    "\n",
    ")"
   ],
   "metadata": {
    "collapsed": false,
    "pycharm": {
     "name": "#%%\n"
    }
   }
  },
  {
   "cell_type": "code",
   "execution_count": 233,
   "outputs": [
    {
     "data": {
      "text/plain": "<Figure size 576x360 with 1 Axes>",
      "image/png": "[encoded data removed]"
     },
     "metadata": {
      "needs_background": "light"
     },
     "output_type": "display_data"
    }
   ],
   "source": [
    "pd.DataFrame(history.history).plot(figsize=(8, 5))\n",
    "plt.grid(True)\n",
    "plt.show()"
   ],
   "metadata": {
    "collapsed": false,
    "pycharm": {
     "name": "#%%\n"
    }
   }
  },
  {
   "cell_type": "code",
   "execution_count": 243,
   "outputs": [
    {
     "name": "stdout",
     "output_type": "stream",
     "text": [
      "Epoch 1/20\n",
      "182/182 [==============================] - 1s 2ms/step - loss: 1.5317 - mse: 1.5317 - val_loss: 1.0444 - val_mse: 1.0444\n",
      "Epoch 2/20\n",
      "182/182 [==============================] - 0s 2ms/step - loss: 0.8364 - mse: 0.8364 - val_loss: 0.6155 - val_mse: 0.6155\n",
      "Epoch 3/20\n",
      "182/182 [==============================] - 0s 2ms/step - loss: 0.6147 - mse: 0.6147 - val_loss: 0.5388 - val_mse: 0.5388\n",
      "Epoch 4/20\n",
      "182/182 [==============================] - 0s 2ms/step - loss: 0.5661 - mse: 0.5661 - val_loss: 0.4982 - val_mse: 0.4982\n",
      "Epoch 5/20\n",
      "182/182 [==============================] - 0s 2ms/step - loss: 0.5277 - mse: 0.5277 - val_loss: 0.4635 - val_mse: 0.4635\n",
      "Epoch 6/20\n",
      "182/182 [==============================] - 0s 2ms/step - loss: 0.4945 - mse: 0.4945 - val_loss: 0.4340 - val_mse: 0.4340\n",
      "Epoch 7/20\n",
      "182/182 [==============================] - 0s 2ms/step - loss: 0.4651 - mse: 0.4651 - val_loss: 0.4098 - val_mse: 0.4098\n",
      "Epoch 8/20\n",
      "182/182 [==============================] - 0s 2ms/step - loss: 0.4416 - mse: 0.4416 - val_loss: 0.3951 - val_mse: 0.3951\n",
      "Epoch 9/20\n",
      "182/182 [==============================] - 0s 2ms/step - loss: 0.4242 - mse: 0.4242 - val_loss: 0.3775 - val_mse: 0.3775\n",
      "Epoch 10/20\n",
      "182/182 [==============================] - 0s 2ms/step - loss: 0.4117 - mse: 0.4117 - val_loss: 0.3690 - val_mse: 0.3690\n",
      "Epoch 11/20\n",
      "182/182 [==============================] - 0s 2ms/step - loss: 0.4048 - mse: 0.4048 - val_loss: 0.3634 - val_mse: 0.3634\n",
      "Epoch 12/20\n",
      "182/182 [==============================] - 0s 2ms/step - loss: 0.3976 - mse: 0.3976 - val_loss: 0.3593 - val_mse: 0.3593\n",
      "Epoch 13/20\n",
      "182/182 [==============================] - 0s 2ms/step - loss: 0.3936 - mse: 0.3936 - val_loss: 0.3623 - val_mse: 0.3623\n",
      "Epoch 14/20\n",
      "182/182 [==============================] - 0s 2ms/step - loss: 0.3898 - mse: 0.3898 - val_loss: 0.3587 - val_mse: 0.3587\n",
      "Epoch 15/20\n",
      "182/182 [==============================] - 0s 2ms/step - loss: 0.3859 - mse: 0.3859 - val_loss: 0.3527 - val_mse: 0.3527\n",
      "Epoch 16/20\n",
      "182/182 [==============================] - 0s 2ms/step - loss: 0.3820 - mse: 0.3820 - val_loss: 0.3522 - val_mse: 0.3522\n",
      "Epoch 17/20\n",
      "182/182 [==============================] - 0s 2ms/step - loss: 0.3798 - mse: 0.3798 - val_loss: 0.3496 - val_mse: 0.3496\n",
      "Epoch 18/20\n",
      "182/182 [==============================] - 0s 2ms/step - loss: 0.3773 - mse: 0.3773 - val_loss: 0.3446 - val_mse: 0.3446\n",
      "Epoch 19/20\n",
      "182/182 [==============================] - 0s 2ms/step - loss: 0.3749 - mse: 0.3749 - val_loss: 0.3435 - val_mse: 0.3435\n",
      "Epoch 20/20\n",
      "182/182 [==============================] - 0s 2ms/step - loss: 0.3724 - mse: 0.3724 - val_loss: 0.3435 - val_mse: 0.3435\n"
     ]
    }
   ],
   "source": [
    "model = keras.Sequential([\n",
    "    keras.layers.Dense(10, activation='softmax',\n",
    "                       input_shape=[X_train.shape[1]]),\n",
    "\n",
    "    keras.layers.Dense(10, activation='relu'),\n",
    "    keras.layers.Dense(10, activation='relu'),\n",
    "\n",
    "    keras.layers.Dense(1)\n",
    "])\n",
    "\n",
    "model.compile(loss='mse',\n",
    "              optimizer=\"SGD\",\n",
    "              metrics=['mse'])\n",
    "\n",
    "history = model.fit(\n",
    "    X_train, y_train,\n",
    "    epochs=20,\n",
    "    batch_size=64,\n",
    "    validation_data=(X_valid, y_valid),\n",
    "\n",
    ")"
   ],
   "metadata": {
    "collapsed": false,
    "pycharm": {
     "name": "#%%\n"
    }
   }
  },
  {
   "cell_type": "code",
   "execution_count": 235,
   "outputs": [],
   "source": [
    "model.save(\"reg_housing_2.h5\")"
   ],
   "metadata": {
    "collapsed": false,
    "pycharm": {
     "name": "#%%\n"
    }
   }
  },
  {
   "cell_type": "code",
   "execution_count": 244,
   "outputs": [
    {
     "data": {
      "text/plain": "<Figure size 576x360 with 1 Axes>",
      "image/png": "[encoded data removed]"
     },
     "metadata": {
      "needs_background": "light"
     },
     "output_type": "display_data"
    }
   ],
   "source": [
    "pd.DataFrame(history.history).plot(figsize=(8, 5))\n",
    "plt.grid(True)\n",
    "plt.show()"
   ],
   "metadata": {
    "collapsed": false,
    "pycharm": {
     "name": "#%%\n"
    }
   }
  },
  {
   "cell_type": "code",
   "execution_count": null,
   "outputs": [],
   "source": [
    "model.save(\"reg_housing_3.h5\")"
   ],
   "metadata": {
    "collapsed": false,
    "pycharm": {
     "name": "#%%\n"
    }
   }
  }
 ],
 "metadata": {
  "kernelspec": {
   "display_name": "Python 3",
   "language": "python",
   "name": "python3"
  },
  "language_info": {
   "codemirror_mode": {
    "name": "ipython",
    "version": 2
   },
   "file_extension": ".py",
   "mimetype": "text/x-python",
   "name": "python",
   "nbconvert_exporter": "python",
   "pygments_lexer": "ipython2",
   "version": "2.7.6"
  }
 },
 "nbformat": 4,
 "nbformat_minor": 0
}